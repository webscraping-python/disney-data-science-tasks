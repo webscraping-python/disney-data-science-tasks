{
 "cells": [
  {
   "cell_type": "code",
   "execution_count": 1,
   "id": "accomplished-maple",
   "metadata": {},
   "outputs": [],
   "source": [
    "import pandas as pd"
   ]
  },
  {
   "cell_type": "markdown",
   "id": "radical-enemy",
   "metadata": {},
   "source": [
    "# 1 Importamos librerías y cargamos los datos"
   ]
  },
  {
   "cell_type": "code",
   "execution_count": 3,
   "id": "touched-breach",
   "metadata": {},
   "outputs": [],
   "source": [
    "df = pd.read_csv('./data/disney_movie_data_final.csv')"
   ]
  },
  {
   "cell_type": "code",
   "execution_count": 7,
   "id": "returning-profit",
   "metadata": {},
   "outputs": [
    {
     "data": {
      "text/plain": [
       "Index(['Unnamed: 0', 'title', 'Production company', 'Release date',\n",
       "       'Running time', 'Country', 'Language', 'Running time (int)',\n",
       "       'Budget (float)', 'Box office (float)', 'Release date (datetime)',\n",
       "       'imdb', 'metascore', 'rotten_tomatoes', 'Directed by', 'Produced by',\n",
       "       'Written by', 'Based on', 'Starring', 'Music by', 'Distributed by',\n",
       "       'Budget', 'Box office', 'Story by', 'Narrated by', 'Cinematography',\n",
       "       'Edited by', 'Screenplay by', 'Production companies', 'Adaptation by',\n",
       "       'Traditional', 'Simplified'],\n",
       "      dtype='object')"
      ]
     },
     "execution_count": 7,
     "metadata": {},
     "output_type": "execute_result"
    }
   ],
   "source": [
    "df.columns"
   ]
  },
  {
   "cell_type": "markdown",
   "id": "adopted-apple",
   "metadata": {},
   "source": [
    "Obtenemos nuestro dataset con las columnas que vamos a usar"
   ]
  },
  {
   "cell_type": "code",
   "execution_count": 5,
   "id": "painful-compensation",
   "metadata": {},
   "outputs": [],
   "source": [
    "ratings = df[['title', 'imdb','metascore','rotten_tomatoes']]"
   ]
  },
  {
   "cell_type": "code",
   "execution_count": 6,
   "id": "aerial-aerospace",
   "metadata": {},
   "outputs": [
    {
     "data": {
      "text/html": [
       "<div>\n",
       "<style scoped>\n",
       "    .dataframe tbody tr th:only-of-type {\n",
       "        vertical-align: middle;\n",
       "    }\n",
       "\n",
       "    .dataframe tbody tr th {\n",
       "        vertical-align: top;\n",
       "    }\n",
       "\n",
       "    .dataframe thead th {\n",
       "        text-align: right;\n",
       "    }\n",
       "</style>\n",
       "<table border=\"1\" class=\"dataframe\">\n",
       "  <thead>\n",
       "    <tr style=\"text-align: right;\">\n",
       "      <th></th>\n",
       "      <th>title</th>\n",
       "      <th>imdb</th>\n",
       "      <th>metascore</th>\n",
       "      <th>rotten_tomatoes</th>\n",
       "    </tr>\n",
       "  </thead>\n",
       "  <tbody>\n",
       "    <tr>\n",
       "      <th>316</th>\n",
       "      <td>Jonas Brothers: The 3D Concert Experience</td>\n",
       "      <td>1.5</td>\n",
       "      <td>45.0</td>\n",
       "      <td>23%</td>\n",
       "    </tr>\n",
       "    <tr>\n",
       "      <th>307</th>\n",
       "      <td>Hannah Montana and Miley Cyrus: Best of Both W...</td>\n",
       "      <td>2.4</td>\n",
       "      <td>59.0</td>\n",
       "      <td>71%</td>\n",
       "    </tr>\n",
       "    <tr>\n",
       "      <th>311</th>\n",
       "      <td>Beverly Hills Chihuahua</td>\n",
       "      <td>3.8</td>\n",
       "      <td>41.0</td>\n",
       "      <td>40%</td>\n",
       "    </tr>\n",
       "    <tr>\n",
       "      <th>223</th>\n",
       "      <td>Mr. Magoo</td>\n",
       "      <td>4.0</td>\n",
       "      <td>18.0</td>\n",
       "      <td>7%</td>\n",
       "    </tr>\n",
       "    <tr>\n",
       "      <th>420</th>\n",
       "      <td>Artemis Fowl</td>\n",
       "      <td>4.1</td>\n",
       "      <td>31.0</td>\n",
       "      <td>9%</td>\n",
       "    </tr>\n",
       "    <tr>\n",
       "      <th>...</th>\n",
       "      <td>...</td>\n",
       "      <td>...</td>\n",
       "      <td>...</td>\n",
       "      <td>...</td>\n",
       "    </tr>\n",
       "    <tr>\n",
       "      <th>383</th>\n",
       "      <td>Tini: The Movie</td>\n",
       "      <td>NaN</td>\n",
       "      <td>NaN</td>\n",
       "      <td>NaN</td>\n",
       "    </tr>\n",
       "    <tr>\n",
       "      <th>397</th>\n",
       "      <td>Jagga Jasoos</td>\n",
       "      <td>NaN</td>\n",
       "      <td>NaN</td>\n",
       "      <td>NaN</td>\n",
       "    </tr>\n",
       "    <tr>\n",
       "      <th>428</th>\n",
       "      <td>Raya and the Last Dragon</td>\n",
       "      <td>NaN</td>\n",
       "      <td>NaN</td>\n",
       "      <td>NaN</td>\n",
       "    </tr>\n",
       "    <tr>\n",
       "      <th>429</th>\n",
       "      <td>Cruella</td>\n",
       "      <td>NaN</td>\n",
       "      <td>NaN</td>\n",
       "      <td>NaN</td>\n",
       "    </tr>\n",
       "    <tr>\n",
       "      <th>430</th>\n",
       "      <td>Jungle Cruise</td>\n",
       "      <td>NaN</td>\n",
       "      <td>NaN</td>\n",
       "      <td>NaN</td>\n",
       "    </tr>\n",
       "  </tbody>\n",
       "</table>\n",
       "<p>432 rows × 4 columns</p>\n",
       "</div>"
      ],
      "text/plain": [
       "                                                 title  imdb  metascore  \\\n",
       "316          Jonas Brothers: The 3D Concert Experience   1.5       45.0   \n",
       "307  Hannah Montana and Miley Cyrus: Best of Both W...   2.4       59.0   \n",
       "311                            Beverly Hills Chihuahua   3.8       41.0   \n",
       "223                                          Mr. Magoo   4.0       18.0   \n",
       "420                                       Artemis Fowl   4.1       31.0   \n",
       "..                                                 ...   ...        ...   \n",
       "383                                    Tini: The Movie   NaN        NaN   \n",
       "397                                       Jagga Jasoos   NaN        NaN   \n",
       "428                           Raya and the Last Dragon   NaN        NaN   \n",
       "429                                            Cruella   NaN        NaN   \n",
       "430                                      Jungle Cruise   NaN        NaN   \n",
       "\n",
       "    rotten_tomatoes  \n",
       "316             23%  \n",
       "307             71%  \n",
       "311             40%  \n",
       "223              7%  \n",
       "420              9%  \n",
       "..              ...  \n",
       "383             NaN  \n",
       "397             NaN  \n",
       "428             NaN  \n",
       "429             NaN  \n",
       "430             NaN  \n",
       "\n",
       "[432 rows x 4 columns]"
      ]
     },
     "execution_count": 6,
     "metadata": {},
     "output_type": "execute_result"
    }
   ],
   "source": [
    "ratings.sort_values(['imdb'])"
   ]
  },
  {
   "cell_type": "code",
   "execution_count": null,
   "id": "quarterly-facial",
   "metadata": {},
   "outputs": [],
   "source": []
  }
 ],
 "metadata": {
  "kernelspec": {
   "display_name": "Python 3",
   "language": "python",
   "name": "python3"
  },
  "language_info": {
   "codemirror_mode": {
    "name": "ipython",
    "version": 3
   },
   "file_extension": ".py",
   "mimetype": "text/x-python",
   "name": "python",
   "nbconvert_exporter": "python",
   "pygments_lexer": "ipython3",
   "version": "3.7.0"
  }
 },
 "nbformat": 4,
 "nbformat_minor": 5
}
