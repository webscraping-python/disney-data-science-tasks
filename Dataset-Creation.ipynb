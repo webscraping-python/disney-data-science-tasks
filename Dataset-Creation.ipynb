{
 "cells": [
  {
   "cell_type": "markdown",
   "id": "initial-triple",
   "metadata": {},
   "source": [
    "# 1. Importar librerías"
   ]
  },
  {
   "cell_type": "code",
   "execution_count": 1,
   "id": "framed-belle",
   "metadata": {},
   "outputs": [],
   "source": [
    "from bs4 import BeautifulSoup as bs\n",
    "import requests\n",
    "from src.conversion import *\n"
   ]
  },
  {
   "cell_type": "markdown",
   "id": "serious-drinking",
   "metadata": {},
   "source": [
    " https://en.wikipedia.org/wiki/List_of_Walt_Disney_Pictures_films"
   ]
  },
  {
   "cell_type": "markdown",
   "id": "velvet-request",
   "metadata": {},
   "source": [
    "# 2 Cargar la pagina web y convertir a un objeto BeautifulSoup"
   ]
  },
  {
   "cell_type": "code",
   "execution_count": 3,
   "id": "greek-insert",
   "metadata": {},
   "outputs": [],
   "source": [
    "url = \"https://en.wikipedia.org/wiki/Toy_Story_3\""
   ]
  },
  {
   "cell_type": "code",
   "execution_count": 4,
   "id": "convenient-brave",
   "metadata": {},
   "outputs": [],
   "source": [
    "r = requests.get(url)"
   ]
  },
  {
   "cell_type": "code",
   "execution_count": 5,
   "id": "connected-velvet",
   "metadata": {},
   "outputs": [
    {
     "data": {
      "text/plain": [
       "<Response [200]>"
      ]
     },
     "execution_count": 5,
     "metadata": {},
     "output_type": "execute_result"
    }
   ],
   "source": [
    "r"
   ]
  },
  {
   "cell_type": "code",
   "execution_count": 6,
   "id": "requested-special",
   "metadata": {},
   "outputs": [],
   "source": [
    "soup = bs(r.content)"
   ]
  },
  {
   "cell_type": "markdown",
   "id": "clear-declaration",
   "metadata": {},
   "source": [
    "Imprimir html"
   ]
  },
  {
   "cell_type": "code",
   "execution_count": 9,
   "id": "optional-metabolism",
   "metadata": {},
   "outputs": [],
   "source": [
    "contents = soup.prettify()\n",
    "#contents"
   ]
  },
  {
   "cell_type": "code",
   "execution_count": 118,
   "id": "greenhouse-february",
   "metadata": {},
   "outputs": [],
   "source": [
    "info_box = soup.find(class_ = \"infobox vevent\")"
   ]
  },
  {
   "cell_type": "code",
   "execution_count": 119,
   "id": "adequate-asset",
   "metadata": {},
   "outputs": [
    {
     "data": {
      "text/plain": [
       "'Toy Story 3Theatrical release posterDirected byLee UnkrichProduced byDarla K. AndersonScreenplay byMichael ArndtStory by\\nJohn Lasseter\\nAndrew Stanton\\nLee Unkrich\\nStarring\\nTom Hanks\\nTim Allen\\nJoan Cusack\\nDon Rickles\\nWallace Shawn\\nJohn Ratzenberger\\nEstelle Harris\\nNed Beatty\\nMichael Keaton\\nJodi Benson\\nJohn Morris\\nMusic byRandy NewmanCinematography\\nJeremy Lasky\\nKim White\\nEdited byKen SchretzmannProductioncompanies \\nWalt Disney Pictures\\nPixar Animation Studios\\nDistributed byWalt Disney StudiosMotion PicturesRelease date\\nJune\\xa012,\\xa02010\\xa0(2010-06-12) (Taormina Film Fest)\\nJune\\xa018,\\xa02010\\xa0(2010-06-18) (United States)\\nRunning time103 minutes[1]CountryUnited StatesLanguageEnglishBudget$200\\xa0million[1]Box office$1.067\\xa0billion[1]'"
      ]
     },
     "execution_count": 119,
     "metadata": {},
     "output_type": "execute_result"
    }
   ],
   "source": [
    "info_box.get_text()"
   ]
  },
  {
   "cell_type": "code",
   "execution_count": 17,
   "id": "technical-orange",
   "metadata": {},
   "outputs": [],
   "source": [
    "#print(info_box.prettify())"
   ]
  },
  {
   "cell_type": "code",
   "execution_count": 120,
   "id": "promising-given",
   "metadata": {},
   "outputs": [],
   "source": [
    "info_rows = info_box.find_all('tr')"
   ]
  },
  {
   "cell_type": "code",
   "execution_count": 123,
   "id": "minimal-dairy",
   "metadata": {},
   "outputs": [
    {
     "name": "stdout",
     "output_type": "stream",
     "text": [
      "<tr>\n",
      " <th class=\"infobox-above summary\" colspan=\"2\" style=\"font-size:110%;font-style:italic;\">\n",
      "  Toy Story 3\n",
      " </th>\n",
      "</tr>\n",
      "\n",
      "<tr>\n",
      " <td class=\"infobox-image\" colspan=\"2\">\n",
      "  <a class=\"image\" href=\"/wiki/File:Toy_Story_3_poster.jpg\" title=\"All of the toys packed close together, holding up a large numeral '3', with Buzz, who is putting a friendly arm around Woody's shoulder, and Woody holding the top of the 3.\">\n",
      "   <img alt=\"All of the toys packed close together, holding up a large numeral '3', with Buzz, who is putting a friendly arm around Woody's shoulder, and Woody holding the top of the 3.\" class=\"thumbborder\" data-file-height=\"326\" data-file-width=\"220\" decoding=\"async\" height=\"326\" src=\"//upload.wikimedia.org/wikipedia/en/6/69/Toy_Story_3_poster.jpg\" width=\"220\"/>\n",
      "  </a>\n",
      "  <div class=\"infobox-caption\" style=\"font-size:95%;padding:0.35em 0.35em 0.25em;line-height:1.25em;\">\n",
      "   Theatrical release poster\n",
      "  </div>\n",
      " </td>\n",
      "</tr>\n",
      "\n",
      "<tr>\n",
      " <th class=\"infobox-label\" scope=\"row\" style=\"white-space:nowrap;padding-right:0.65em;\">\n",
      "  Directed by\n",
      " </th>\n",
      " <td class=\"infobox-data\">\n",
      "  <a href=\"/wiki/Lee_Unkrich\" title=\"Lee Unkrich\">\n",
      "   Lee Unkrich\n",
      "  </a>\n",
      " </td>\n",
      "</tr>\n",
      "\n",
      "<tr>\n",
      " <th class=\"infobox-label\" scope=\"row\" style=\"white-space:nowrap;padding-right:0.65em;\">\n",
      "  Produced by\n",
      " </th>\n",
      " <td class=\"infobox-data\">\n",
      "  <a href=\"/wiki/Darla_K._Anderson\" title=\"Darla K. Anderson\">\n",
      "   Darla K. Anderson\n",
      "  </a>\n",
      " </td>\n",
      "</tr>\n",
      "\n",
      "<tr>\n",
      " <th class=\"infobox-label\" scope=\"row\" style=\"white-space:nowrap;padding-right:0.65em;\">\n",
      "  Screenplay by\n",
      " </th>\n",
      " <td class=\"infobox-data\">\n",
      "  <a href=\"/wiki/Michael_Arndt\" title=\"Michael Arndt\">\n",
      "   Michael Arndt\n",
      "  </a>\n",
      " </td>\n",
      "</tr>\n",
      "\n",
      "<tr>\n",
      " <th class=\"infobox-label\" scope=\"row\" style=\"white-space:nowrap;padding-right:0.65em;\">\n",
      "  Story by\n",
      " </th>\n",
      " <td class=\"infobox-data\">\n",
      "  <div class=\"plainlist\">\n",
      "   <ul>\n",
      "    <li>\n",
      "     <a href=\"/wiki/John_Lasseter\" title=\"John Lasseter\">\n",
      "      John Lasseter\n",
      "     </a>\n",
      "    </li>\n",
      "    <li>\n",
      "     <a href=\"/wiki/Andrew_Stanton\" title=\"Andrew Stanton\">\n",
      "      Andrew Stanton\n",
      "     </a>\n",
      "    </li>\n",
      "    <li>\n",
      "     Lee Unkrich\n",
      "    </li>\n",
      "   </ul>\n",
      "  </div>\n",
      " </td>\n",
      "</tr>\n",
      "\n",
      "<tr>\n",
      " <th class=\"infobox-label\" scope=\"row\" style=\"white-space:nowrap;padding-right:0.65em;\">\n",
      "  Starring\n",
      " </th>\n",
      " <td class=\"infobox-data\">\n",
      "  <div class=\"plainlist\">\n",
      "   <ul>\n",
      "    <li>\n",
      "     <a href=\"/wiki/Tom_Hanks\" title=\"Tom Hanks\">\n",
      "      Tom Hanks\n",
      "     </a>\n",
      "    </li>\n",
      "    <li>\n",
      "     <a href=\"/wiki/Tim_Allen\" title=\"Tim Allen\">\n",
      "      Tim Allen\n",
      "     </a>\n",
      "    </li>\n",
      "    <li>\n",
      "     <a href=\"/wiki/Joan_Cusack\" title=\"Joan Cusack\">\n",
      "      Joan Cusack\n",
      "     </a>\n",
      "    </li>\n",
      "    <li>\n",
      "     <a href=\"/wiki/Don_Rickles\" title=\"Don Rickles\">\n",
      "      Don Rickles\n",
      "     </a>\n",
      "    </li>\n",
      "    <li>\n",
      "     <a href=\"/wiki/Wallace_Shawn\" title=\"Wallace Shawn\">\n",
      "      Wallace Shawn\n",
      "     </a>\n",
      "    </li>\n",
      "    <li>\n",
      "     <a href=\"/wiki/John_Ratzenberger\" title=\"John Ratzenberger\">\n",
      "      John Ratzenberger\n",
      "     </a>\n",
      "    </li>\n",
      "    <li>\n",
      "     <a href=\"/wiki/Estelle_Harris\" title=\"Estelle Harris\">\n",
      "      Estelle Harris\n",
      "     </a>\n",
      "    </li>\n",
      "    <li>\n",
      "     <a href=\"/wiki/Ned_Beatty\" title=\"Ned Beatty\">\n",
      "      Ned Beatty\n",
      "     </a>\n",
      "    </li>\n",
      "    <li>\n",
      "     <a href=\"/wiki/Michael_Keaton\" title=\"Michael Keaton\">\n",
      "      Michael Keaton\n",
      "     </a>\n",
      "    </li>\n",
      "    <li>\n",
      "     <a href=\"/wiki/Jodi_Benson\" title=\"Jodi Benson\">\n",
      "      Jodi Benson\n",
      "     </a>\n",
      "    </li>\n",
      "    <li>\n",
      "     <a href=\"/wiki/John_Morris_(actor)\" title=\"John Morris (actor)\">\n",
      "      John Morris\n",
      "     </a>\n",
      "    </li>\n",
      "   </ul>\n",
      "  </div>\n",
      " </td>\n",
      "</tr>\n",
      "\n",
      "<tr>\n",
      " <th class=\"infobox-label\" scope=\"row\" style=\"white-space:nowrap;padding-right:0.65em;\">\n",
      "  Music by\n",
      " </th>\n",
      " <td class=\"infobox-data\">\n",
      "  <a href=\"/wiki/Randy_Newman\" title=\"Randy Newman\">\n",
      "   Randy Newman\n",
      "  </a>\n",
      " </td>\n",
      "</tr>\n",
      "\n",
      "<tr>\n",
      " <th class=\"infobox-label\" scope=\"row\" style=\"white-space:nowrap;padding-right:0.65em;\">\n",
      "  Cinematography\n",
      " </th>\n",
      " <td class=\"infobox-data\">\n",
      "  <div class=\"plainlist\">\n",
      "   <ul>\n",
      "    <li>\n",
      "     Jeremy Lasky\n",
      "    </li>\n",
      "    <li>\n",
      "     Kim White\n",
      "    </li>\n",
      "   </ul>\n",
      "  </div>\n",
      " </td>\n",
      "</tr>\n",
      "\n",
      "<tr>\n",
      " <th class=\"infobox-label\" scope=\"row\" style=\"white-space:nowrap;padding-right:0.65em;\">\n",
      "  Edited by\n",
      " </th>\n",
      " <td class=\"infobox-data\">\n",
      "  <a href=\"/wiki/Ken_Schretzmann\" title=\"Ken Schretzmann\">\n",
      "   Ken Schretzmann\n",
      "  </a>\n",
      " </td>\n",
      "</tr>\n",
      "\n",
      "<tr>\n",
      " <th class=\"infobox-label\" scope=\"row\" style=\"white-space:nowrap;padding-right:0.65em;\">\n",
      "  <div style=\"display:inline-block; padding:0.1em 0;line-height:1.2em;\">\n",
      "   Production\n",
      "   <br/>\n",
      "   companies\n",
      "  </div>\n",
      " </th>\n",
      " <td class=\"infobox-data\">\n",
      "  <div style=\"vertical-align:middle;\">\n",
      "   <div class=\"plainlist\">\n",
      "    <ul>\n",
      "     <li>\n",
      "      <a href=\"/wiki/Walt_Disney_Pictures\" title=\"Walt Disney Pictures\">\n",
      "       Walt Disney Pictures\n",
      "      </a>\n",
      "     </li>\n",
      "     <li>\n",
      "      <a class=\"mw-redirect\" href=\"/wiki/Pixar_Animation_Studios\" title=\"Pixar Animation Studios\">\n",
      "       Pixar Animation Studios\n",
      "      </a>\n",
      "     </li>\n",
      "    </ul>\n",
      "   </div>\n",
      "  </div>\n",
      " </td>\n",
      "</tr>\n",
      "\n",
      "<tr>\n",
      " <th class=\"infobox-label\" scope=\"row\" style=\"white-space:nowrap;padding-right:0.65em;\">\n",
      "  Distributed by\n",
      " </th>\n",
      " <td class=\"infobox-data\">\n",
      "  <a href=\"/wiki/Walt_Disney_Studios_Motion_Pictures\" title=\"Walt Disney Studios Motion Pictures\">\n",
      "   Walt Disney Studios\n",
      "   <br/>\n",
      "   Motion Pictures\n",
      "  </a>\n",
      " </td>\n",
      "</tr>\n",
      "\n",
      "<tr>\n",
      " <th class=\"infobox-label\" scope=\"row\" style=\"white-space:nowrap;padding-right:0.65em;\">\n",
      "  <div style=\"display:inline-block; padding:0.1em 0;line-height:1.2em;white-space:normal;\">\n",
      "   Release date\n",
      "  </div>\n",
      " </th>\n",
      " <td class=\"infobox-data\">\n",
      "  <div class=\"plainlist\">\n",
      "   <ul>\n",
      "    <li>\n",
      "     June 12, 2010\n",
      "     <span style=\"display:none\">\n",
      "      (\n",
      "      <span class=\"bday dtstart published updated\">\n",
      "       2010-06-12\n",
      "      </span>\n",
      "      )\n",
      "     </span>\n",
      "     (\n",
      "     <a href=\"/wiki/Taormina_Film_Fest\" title=\"Taormina Film Fest\">\n",
      "      Taormina Film Fest\n",
      "     </a>\n",
      "     )\n",
      "    </li>\n",
      "    <li>\n",
      "     June 18, 2010\n",
      "     <span style=\"display:none\">\n",
      "      (\n",
      "      <span class=\"bday dtstart published updated\">\n",
      "       2010-06-18\n",
      "      </span>\n",
      "      )\n",
      "     </span>\n",
      "     (United States)\n",
      "    </li>\n",
      "   </ul>\n",
      "  </div>\n",
      " </td>\n",
      "</tr>\n",
      "\n",
      "<tr>\n",
      " <th class=\"infobox-label\" scope=\"row\" style=\"white-space:nowrap;padding-right:0.65em;\">\n",
      "  <div style=\"display:inline-block; padding:0.1em 0;line-height:1.2em;white-space:normal;\">\n",
      "   Running time\n",
      "  </div>\n",
      " </th>\n",
      " <td class=\"infobox-data\">\n",
      "  103 minutes\n",
      "  <sup class=\"reference\" id=\"cite_ref-mojo1_1-0\">\n",
      "   <a href=\"#cite_note-mojo1-1\">\n",
      "    [1]\n",
      "   </a>\n",
      "  </sup>\n",
      " </td>\n",
      "</tr>\n",
      "\n",
      "<tr>\n",
      " <th class=\"infobox-label\" scope=\"row\" style=\"white-space:nowrap;padding-right:0.65em;\">\n",
      "  Country\n",
      " </th>\n",
      " <td class=\"infobox-data\">\n",
      "  United States\n",
      " </td>\n",
      "</tr>\n",
      "\n",
      "<tr>\n",
      " <th class=\"infobox-label\" scope=\"row\" style=\"white-space:nowrap;padding-right:0.65em;\">\n",
      "  Language\n",
      " </th>\n",
      " <td class=\"infobox-data\">\n",
      "  English\n",
      " </td>\n",
      "</tr>\n",
      "\n",
      "<tr>\n",
      " <th class=\"infobox-label\" scope=\"row\" style=\"white-space:nowrap;padding-right:0.65em;\">\n",
      "  Budget\n",
      " </th>\n",
      " <td class=\"infobox-data\">\n",
      "  $200 million\n",
      "  <sup class=\"reference\" id=\"cite_ref-mojo1_1-1\">\n",
      "   <a href=\"#cite_note-mojo1-1\">\n",
      "    [1]\n",
      "   </a>\n",
      "  </sup>\n",
      " </td>\n",
      "</tr>\n",
      "\n",
      "<tr>\n",
      " <th class=\"infobox-label\" scope=\"row\" style=\"white-space:nowrap;padding-right:0.65em;\">\n",
      "  Box office\n",
      " </th>\n",
      " <td class=\"infobox-data\">\n",
      "  $1.067 billion\n",
      "  <sup class=\"reference\" id=\"cite_ref-mojo1_1-2\">\n",
      "   <a href=\"#cite_note-mojo1-1\">\n",
      "    [1]\n",
      "   </a>\n",
      "  </sup>\n",
      " </td>\n",
      "</tr>\n"
     ]
    }
   ],
   "source": [
    "# Imprimimos todas filas que contengan `tr`\n",
    "for row in info_rows:\n",
    "    print(row.prettify())"
   ]
  },
  {
   "cell_type": "code",
   "execution_count": 124,
   "id": "subsequent-structure",
   "metadata": {},
   "outputs": [
    {
     "data": {
      "text/plain": [
       "18"
      ]
     },
     "execution_count": 124,
     "metadata": {},
     "output_type": "execute_result"
    }
   ],
   "source": [
    "len(info_rows)"
   ]
  },
  {
   "cell_type": "code",
   "execution_count": 128,
   "id": "million-baseline",
   "metadata": {},
   "outputs": [
    {
     "data": {
      "text/plain": [
       "<tr><th class=\"infobox-label\" scope=\"row\" style=\"white-space:nowrap;padding-right:0.65em;\">Box office</th><td class=\"infobox-data\">$1.067 billion<sup class=\"reference\" id=\"cite_ref-mojo1_1-2\"><a href=\"#cite_note-mojo1-1\">[1]</a></sup></td></tr>"
      ]
     },
     "execution_count": 128,
     "metadata": {},
     "output_type": "execute_result"
    }
   ],
   "source": [
    "info_rows[17]"
   ]
  },
  {
   "cell_type": "markdown",
   "id": "unable-underground",
   "metadata": {},
   "source": [
    "# 3. Creamos un diccionario con las información"
   ]
  },
  {
   "cell_type": "code",
   "execution_count": 134,
   "id": "variable-swaziland",
   "metadata": {},
   "outputs": [],
   "source": [
    "movie_info = {}"
   ]
  },
  {
   "cell_type": "code",
   "execution_count": 126,
   "id": "compliant-tactics",
   "metadata": {},
   "outputs": [],
   "source": [
    "def get_content_value(row_data):\n",
    "    if row_data.find(\"li\"):\n",
    "        return [li.get_text(\" \", strip=True).replace(\"\\xa0\", \" \") for li in row_data.find_all(\"li\")]\n",
    "    else:\n",
    "        return row_data.get_text(\" \", strip=True).replace(\"\\xa0\", \" \")"
   ]
  },
  {
   "cell_type": "code",
   "execution_count": 136,
   "id": "disciplinary-stroke",
   "metadata": {},
   "outputs": [
    {
     "name": "stdout",
     "output_type": "stream",
     "text": [
      "0\n",
      "1\n",
      "2\n",
      "<tr><th class=\"infobox-label\" scope=\"row\" style=\"white-space:nowrap;padding-right:0.65em;\">Directed by</th><td class=\"infobox-data\"><a href=\"/wiki/Lee_Unkrich\" title=\"Lee Unkrich\">Lee Unkrich</a></td></tr>\n",
      "3\n",
      "<tr><th class=\"infobox-label\" scope=\"row\" style=\"white-space:nowrap;padding-right:0.65em;\">Produced by</th><td class=\"infobox-data\"><a href=\"/wiki/Darla_K._Anderson\" title=\"Darla K. Anderson\">Darla K. Anderson</a></td></tr>\n",
      "4\n",
      "<tr><th class=\"infobox-label\" scope=\"row\" style=\"white-space:nowrap;padding-right:0.65em;\">Screenplay by</th><td class=\"infobox-data\"><a href=\"/wiki/Michael_Arndt\" title=\"Michael Arndt\">Michael Arndt</a></td></tr>\n",
      "5\n",
      "<tr><th class=\"infobox-label\" scope=\"row\" style=\"white-space:nowrap;padding-right:0.65em;\">Story by</th><td class=\"infobox-data\"><div class=\"plainlist\">\n",
      "<ul><li><a href=\"/wiki/John_Lasseter\" title=\"John Lasseter\">John Lasseter</a></li>\n",
      "<li><a href=\"/wiki/Andrew_Stanton\" title=\"Andrew Stanton\">Andrew Stanton</a></li>\n",
      "<li>Lee Unkrich</li></ul>\n",
      "</div></td></tr>\n",
      "6\n",
      "<tr><th class=\"infobox-label\" scope=\"row\" style=\"white-space:nowrap;padding-right:0.65em;\">Starring</th><td class=\"infobox-data\"><div class=\"plainlist\">\n",
      "<ul><li><a href=\"/wiki/Tom_Hanks\" title=\"Tom Hanks\">Tom Hanks</a></li>\n",
      "<li><a href=\"/wiki/Tim_Allen\" title=\"Tim Allen\">Tim Allen</a></li>\n",
      "<li><a href=\"/wiki/Joan_Cusack\" title=\"Joan Cusack\">Joan Cusack</a></li>\n",
      "<li><a href=\"/wiki/Don_Rickles\" title=\"Don Rickles\">Don Rickles</a></li>\n",
      "<li><a href=\"/wiki/Wallace_Shawn\" title=\"Wallace Shawn\">Wallace Shawn</a></li>\n",
      "<li><a href=\"/wiki/John_Ratzenberger\" title=\"John Ratzenberger\">John Ratzenberger</a></li>\n",
      "<li><a href=\"/wiki/Estelle_Harris\" title=\"Estelle Harris\">Estelle Harris</a></li>\n",
      "<li><a href=\"/wiki/Ned_Beatty\" title=\"Ned Beatty\">Ned Beatty</a></li>\n",
      "<li><a href=\"/wiki/Michael_Keaton\" title=\"Michael Keaton\">Michael Keaton</a></li>\n",
      "<li><a href=\"/wiki/Jodi_Benson\" title=\"Jodi Benson\">Jodi Benson</a></li>\n",
      "<li><a href=\"/wiki/John_Morris_(actor)\" title=\"John Morris (actor)\">John Morris</a></li></ul>\n",
      "</div></td></tr>\n",
      "7\n",
      "<tr><th class=\"infobox-label\" scope=\"row\" style=\"white-space:nowrap;padding-right:0.65em;\">Music by</th><td class=\"infobox-data\"><a href=\"/wiki/Randy_Newman\" title=\"Randy Newman\">Randy Newman</a></td></tr>\n",
      "8\n",
      "<tr><th class=\"infobox-label\" scope=\"row\" style=\"white-space:nowrap;padding-right:0.65em;\">Cinematography</th><td class=\"infobox-data\"><div class=\"plainlist\">\n",
      "<ul><li>Jeremy Lasky</li>\n",
      "<li>Kim White</li></ul>\n",
      "</div></td></tr>\n",
      "9\n",
      "<tr><th class=\"infobox-label\" scope=\"row\" style=\"white-space:nowrap;padding-right:0.65em;\">Edited by</th><td class=\"infobox-data\"><a href=\"/wiki/Ken_Schretzmann\" title=\"Ken Schretzmann\">Ken Schretzmann</a></td></tr>\n",
      "10\n",
      "<tr><th class=\"infobox-label\" scope=\"row\" style=\"white-space:nowrap;padding-right:0.65em;\"><div style=\"display:inline-block; padding:0.1em 0;line-height:1.2em;\">Production<br/>companies </div></th><td class=\"infobox-data\"><div style=\"vertical-align:middle;\"><div class=\"plainlist\">\n",
      "<ul><li><a href=\"/wiki/Walt_Disney_Pictures\" title=\"Walt Disney Pictures\">Walt Disney Pictures</a></li>\n",
      "<li><a class=\"mw-redirect\" href=\"/wiki/Pixar_Animation_Studios\" title=\"Pixar Animation Studios\">Pixar Animation Studios</a></li></ul>\n",
      "</div></div></td></tr>\n",
      "11\n",
      "<tr><th class=\"infobox-label\" scope=\"row\" style=\"white-space:nowrap;padding-right:0.65em;\">Distributed by</th><td class=\"infobox-data\"><a href=\"/wiki/Walt_Disney_Studios_Motion_Pictures\" title=\"Walt Disney Studios Motion Pictures\">Walt Disney Studios<br/>Motion Pictures</a></td></tr>\n",
      "12\n",
      "<tr><th class=\"infobox-label\" scope=\"row\" style=\"white-space:nowrap;padding-right:0.65em;\"><div style=\"display:inline-block; padding:0.1em 0;line-height:1.2em;white-space:normal;\">Release date</div></th><td class=\"infobox-data\"><div class=\"plainlist\">\n",
      "<ul><li>June 12, 2010<span style=\"display:none\"> (<span class=\"bday dtstart published updated\">2010-06-12</span>)</span> (<a href=\"/wiki/Taormina_Film_Fest\" title=\"Taormina Film Fest\">Taormina Film Fest</a>)</li>\n",
      "<li>June 18, 2010<span style=\"display:none\"> (<span class=\"bday dtstart published updated\">2010-06-18</span>)</span> (United States)</li></ul>\n",
      "</div></td></tr>\n",
      "13\n",
      "<tr><th class=\"infobox-label\" scope=\"row\" style=\"white-space:nowrap;padding-right:0.65em;\"><div style=\"display:inline-block; padding:0.1em 0;line-height:1.2em;white-space:normal;\">Running time</div></th><td class=\"infobox-data\">103 minutes<sup class=\"reference\" id=\"cite_ref-mojo1_1-0\"><a href=\"#cite_note-mojo1-1\">[1]</a></sup></td></tr>\n",
      "14\n",
      "<tr><th class=\"infobox-label\" scope=\"row\" style=\"white-space:nowrap;padding-right:0.65em;\">Country</th><td class=\"infobox-data\">United States</td></tr>\n",
      "15\n",
      "<tr><th class=\"infobox-label\" scope=\"row\" style=\"white-space:nowrap;padding-right:0.65em;\">Language</th><td class=\"infobox-data\">English</td></tr>\n",
      "16\n",
      "<tr><th class=\"infobox-label\" scope=\"row\" style=\"white-space:nowrap;padding-right:0.65em;\">Budget</th><td class=\"infobox-data\">$200 million<sup class=\"reference\" id=\"cite_ref-mojo1_1-1\"><a href=\"#cite_note-mojo1-1\">[1]</a></sup></td></tr>\n",
      "17\n",
      "<tr><th class=\"infobox-label\" scope=\"row\" style=\"white-space:nowrap;padding-right:0.65em;\">Box office</th><td class=\"infobox-data\">$1.067 billion<sup class=\"reference\" id=\"cite_ref-mojo1_1-2\"><a href=\"#cite_note-mojo1-1\">[1]</a></sup></td></tr>\n"
     ]
    }
   ],
   "source": [
    "for index, row in enumerate(info_rows):\n",
    "    print(index)\n",
    "    if index == 0:\n",
    "        movie_info['title'] = row.find(\"th\").get_text(\" \", strip=True)\n",
    "    elif index == 1:\n",
    "        continue\n",
    "    else:\n",
    "        print(row)\n",
    "        content_key = row.find(\"th\").get_text(\" \", strip=True)   \n",
    "        content_value = get_content_value(row.find(\"td\"))\n",
    "        movie_info[content_key] = content_value\n",
    "        \n",
    "    \n"
   ]
  },
  {
   "cell_type": "code",
   "execution_count": 137,
   "id": "immune-violin",
   "metadata": {},
   "outputs": [
    {
     "data": {
      "text/plain": [
       "{'title': 'Toy Story 3',\n",
       " 'Directed by': 'Lee Unkrich',\n",
       " 'Produced by': 'Darla K. Anderson',\n",
       " 'Screenplay by': 'Michael Arndt',\n",
       " 'Story by': ['John Lasseter', 'Andrew Stanton', 'Lee Unkrich'],\n",
       " 'Starring': ['Tom Hanks',\n",
       "  'Tim Allen',\n",
       "  'Joan Cusack',\n",
       "  'Don Rickles',\n",
       "  'Wallace Shawn',\n",
       "  'John Ratzenberger',\n",
       "  'Estelle Harris',\n",
       "  'Ned Beatty',\n",
       "  'Michael Keaton',\n",
       "  'Jodi Benson',\n",
       "  'John Morris'],\n",
       " 'Music by': 'Randy Newman',\n",
       " 'Cinematography': ['Jeremy Lasky', 'Kim White'],\n",
       " 'Edited by': 'Ken Schretzmann',\n",
       " 'Production companies': ['Walt Disney Pictures', 'Pixar Animation Studios'],\n",
       " 'Distributed by': 'Walt Disney Studios Motion Pictures',\n",
       " 'Release date': ['June 12, 2010 ( 2010-06-12 ) ( Taormina Film Fest )',\n",
       "  'June 18, 2010 ( 2010-06-18 ) (United States)'],\n",
       " 'Running time': '103 minutes [1]',\n",
       " 'Country': 'United States',\n",
       " 'Language': 'English',\n",
       " 'Budget': '$200 million [1]',\n",
       " 'Box office': '$1.067 billion [1]'}"
      ]
     },
     "execution_count": 137,
     "metadata": {},
     "output_type": "execute_result"
    }
   ],
   "source": [
    "movie_info"
   ]
  },
  {
   "cell_type": "markdown",
   "id": "romantic-gibson",
   "metadata": {},
   "source": [
    "# 4 Obtener cuadro de información para todas las películas"
   ]
  },
  {
   "cell_type": "code",
   "execution_count": 2,
   "id": "incomplete-while",
   "metadata": {},
   "outputs": [],
   "source": [
    "r = requests.get(\"https://en.wikipedia.org/wiki/List_of_Walt_Disney_Pictures_films\")"
   ]
  },
  {
   "cell_type": "code",
   "execution_count": 3,
   "id": "recorded-immune",
   "metadata": {},
   "outputs": [],
   "source": [
    "soup = bs(r.content)"
   ]
  },
  {
   "cell_type": "code",
   "execution_count": 4,
   "id": "seven-reviewer",
   "metadata": {},
   "outputs": [],
   "source": [
    "contents = soup.prettify()\n",
    "#print(contents)"
   ]
  },
  {
   "cell_type": "code",
   "execution_count": 12,
   "id": "existing-module",
   "metadata": {},
   "outputs": [],
   "source": [
    "movies = soup.select(\".wikitable.sortable i\")"
   ]
  },
  {
   "cell_type": "code",
   "execution_count": 13,
   "id": "closing-groove",
   "metadata": {},
   "outputs": [
    {
     "data": {
      "text/plain": [
       "[<i><a href=\"/wiki/Academy_Award_Review_of_Walt_Disney_Cartoons\" title=\"Academy Award Review of Walt Disney Cartoons\">Academy Award Review of Walt Disney Cartoons</a></i>,\n",
       " <i><a href=\"/wiki/Snow_White_and_the_Seven_Dwarfs_(1937_film)\" title=\"Snow White and the Seven Dwarfs (1937 film)\">Snow White and the Seven Dwarfs</a></i>,\n",
       " <i><a href=\"/wiki/Pinocchio_(1940_film)\" title=\"Pinocchio (1940 film)\">Pinocchio</a></i>,\n",
       " <i><a href=\"/wiki/Fantasia_(1940_film)\" title=\"Fantasia (1940 film)\">Fantasia</a></i>,\n",
       " <i><a href=\"/wiki/The_Reluctant_Dragon_(1941_film)\" title=\"The Reluctant Dragon (1941 film)\">The Reluctant Dragon</a></i>,\n",
       " <i><a href=\"/wiki/Dumbo\" title=\"Dumbo\">Dumbo</a></i>,\n",
       " <i><a href=\"/wiki/Bambi\" title=\"Bambi\">Bambi</a></i>,\n",
       " <i><a href=\"/wiki/Saludos_Amigos\" title=\"Saludos Amigos\">Saludos Amigos</a></i>,\n",
       " <i><a href=\"/wiki/Victory_Through_Air_Power_(film)\" title=\"Victory Through Air Power (film)\">Victory Through Air Power</a></i>,\n",
       " <i><a href=\"/wiki/The_Three_Caballeros\" title=\"The Three Caballeros\">The Three Caballeros</a></i>]"
      ]
     },
     "execution_count": 13,
     "metadata": {},
     "output_type": "execute_result"
    }
   ],
   "source": [
    "movies[0:10]"
   ]
  },
  {
   "cell_type": "code",
   "execution_count": 14,
   "id": "manual-resident",
   "metadata": {},
   "outputs": [
    {
     "data": {
      "text/plain": [
       "<i><a href=\"/wiki/Academy_Award_Review_of_Walt_Disney_Cartoons\" title=\"Academy Award Review of Walt Disney Cartoons\">Academy Award Review of Walt Disney Cartoons</a></i>"
      ]
     },
     "execution_count": 14,
     "metadata": {},
     "output_type": "execute_result"
    }
   ],
   "source": [
    "movies[0]"
   ]
  },
  {
   "cell_type": "code",
   "execution_count": 15,
   "id": "emotional-diabetes",
   "metadata": {},
   "outputs": [
    {
     "data": {
      "text/plain": [
       "'/wiki/Academy_Award_Review_of_Walt_Disney_Cartoons'"
      ]
     },
     "execution_count": 15,
     "metadata": {},
     "output_type": "execute_result"
    }
   ],
   "source": [
    "movies[0].a['href']"
   ]
  },
  {
   "cell_type": "code",
   "execution_count": 16,
   "id": "incident-doubt",
   "metadata": {},
   "outputs": [
    {
     "data": {
      "text/plain": [
       "'Academy Award Review of Walt Disney Cartoons'"
      ]
     },
     "execution_count": 16,
     "metadata": {},
     "output_type": "execute_result"
    }
   ],
   "source": [
    "movies[0].a['title']"
   ]
  },
  {
   "cell_type": "markdown",
   "id": "northern-neighborhood",
   "metadata": {},
   "source": [
    "### Obtener la info "
   ]
  },
  {
   "cell_type": "code",
   "execution_count": 17,
   "id": "invisible-stranger",
   "metadata": {},
   "outputs": [],
   "source": [
    "def get_content_value(row_data):\n",
    "    if row_data.find(\"li\"):\n",
    "        return [li.get_text(\" \", strip=True).replace(\"\\xa0\", \" \") for li in row_data.find_all(\"li\")]\n",
    "    else:\n",
    "        return row_data.get_text(\" \", strip=True).replace(\"\\xa0\", \" \")\n",
    "    \n"
   ]
  },
  {
   "cell_type": "code",
   "execution_count": 18,
   "id": "occasional-shepherd",
   "metadata": {},
   "outputs": [],
   "source": []
  },
  {
   "cell_type": "code",
   "execution_count": 64,
   "id": "funded-target",
   "metadata": {},
   "outputs": [],
   "source": [
    "def get_info_box(url):\n",
    "    movie_info = {}\n",
    "    r = requests.get(url)\n",
    "    soup = bs(r.content)\n",
    "    info_box = soup.find(class_=\"infobox vevent\")\n",
    "    info_rows = info_box.find_all(\"tr\")\n",
    "    \n",
    "    for index, row in enumerate(info_rows):\n",
    "        if index == 0:\n",
    "            movie_info['title'] = row.find(\"th\").get_text(\" \", strip=True)\n",
    "        else:\n",
    "            header = row.find('th')\n",
    "            if header:\n",
    "                content_key = row.find(\"th\").get_text(\" \", strip=True)\n",
    "                content_value = get_content_value(row.find(\"td\"))\n",
    "                movie_info[content_key] = content_value\n",
    "            \n",
    "    return movie_info"
   ]
  },
  {
   "cell_type": "code",
   "execution_count": 48,
   "id": "governmental-weapon",
   "metadata": {},
   "outputs": [
    {
     "data": {
      "text/plain": [
       "{'title': 'One Little Indian',\n",
       " 'Directed by': 'Bernard McEveety',\n",
       " 'Produced by': 'Winston Hibler',\n",
       " 'Written by': 'Harry Spalding',\n",
       " 'Starring': ['James Garner',\n",
       "  'Vera Miles',\n",
       "  'Pat Hingle',\n",
       "  'Morgan Woodward',\n",
       "  'Jodie Foster'],\n",
       " 'Music by': 'Jerry Goldsmith',\n",
       " 'Cinematography': 'Charles F. Wheeler',\n",
       " 'Edited by': 'Robert Stafford',\n",
       " 'Production company': 'Walt Disney Productions',\n",
       " 'Distributed by': 'Buena Vista Distribution',\n",
       " 'Release date': ['June 20, 1973'],\n",
       " 'Running time': '90 Minutes',\n",
       " 'Country': 'United States',\n",
       " 'Language': 'English',\n",
       " 'Box office': '$2 million'}"
      ]
     },
     "execution_count": 48,
     "metadata": {},
     "output_type": "execute_result"
    }
   ],
   "source": [
    "get_info_box(\"https://en.wikipedia.org/wiki/One_Little_Indian_(film)\")"
   ]
  },
  {
   "cell_type": "code",
   "execution_count": 79,
   "id": "knowing-newspaper",
   "metadata": {},
   "outputs": [],
   "source": [
    "r = requests.get(\"https://en.wikipedia.org/wiki/List_of_Walt_Disney_Pictures_films\")\n",
    "soup = bs(r.content)\n",
    "movies = soup.select(\".wikitable.sortable i a\")"
   ]
  },
  {
   "cell_type": "code",
   "execution_count": 66,
   "id": "purple-neighbor",
   "metadata": {},
   "outputs": [
    {
     "name": "stdout",
     "output_type": "stream",
     "text": [
      "Zorro the Avenger\n",
      "'NoneType' object has no attribute 'find'\n",
      "The Sign of Zorro\n",
      "'NoneType' object has no attribute 'find'\n",
      "True-Life Adventures\n",
      "'NoneType' object has no attribute 'find_all'\n"
     ]
    }
   ],
   "source": [
    "base_path = \"https://en.wikipedia.org/\"\n",
    "\n",
    "movie_info_list = []\n",
    "for index, movie in enumerate(movies):\n",
    "    #if index == 5:\n",
    "     #   break\n",
    "    try:\n",
    "        relative_path = movie['href']\n",
    "       \n",
    "        full_path = base_path + relative_path\n",
    "        \n",
    "        #title = movie['title']\n",
    "        m = get_info_box(full_path)\n",
    "        \n",
    "        movie_info_list.append(m)\n",
    "        \n",
    "    # por si nos da error alguna película    \n",
    "    except Exception as e:\n",
    "        print(movie.get_text())\n",
    "        print(e)"
   ]
  },
  {
   "cell_type": "markdown",
   "id": "functioning-fiction",
   "metadata": {},
   "source": [
    "# 5. Guardar o cargar datos"
   ]
  },
  {
   "cell_type": "code",
   "execution_count": 69,
   "id": "julian-hampton",
   "metadata": {},
   "outputs": [],
   "source": [
    "import json\n",
    "def save_data(title,data):\n",
    "    with open(title, 'w', encoding='utf-8') as f:\n",
    "        json.dump(data, f, ensure_ascii=False, indent=2)"
   ]
  },
  {
   "cell_type": "code",
   "execution_count": 70,
   "id": "after-forwarding",
   "metadata": {},
   "outputs": [],
   "source": [
    "def load_data(title):\n",
    "    with open(title, encoding = 'utf-8') as f:\n",
    "        json.load(f)"
   ]
  },
  {
   "cell_type": "code",
   "execution_count": 71,
   "id": "cellular-legislation",
   "metadata": {},
   "outputs": [],
   "source": [
    "save_data(\"./data/disney_data.json\", movie_info_list)"
   ]
  },
  {
   "cell_type": "markdown",
   "id": "piano-oxide",
   "metadata": {
    "tags": []
   },
   "source": [
    "# 6. Limpiar los datos"
   ]
  },
  {
   "cell_type": "code",
   "execution_count": 10,
   "id": "defined-image",
   "metadata": {},
   "outputs": [],
   "source": [
    "r = requests.get(\"https://en.wikipedia.org/wiki/List_of_Walt_Disney_Pictures_films\")\n",
    "soup = bs(r.content)\n",
    "movies = soup.select(\".wikitable.sortable i a\")"
   ]
  },
  {
   "cell_type": "markdown",
   "id": "hourly-reply",
   "metadata": {},
   "source": [
    "### Creamos una función que elimine los [1] [2]..., que estan contenidos en las etiquetas `sup` y `span`"
   ]
  },
  {
   "cell_type": "code",
   "execution_count": 11,
   "id": "fluid-spelling",
   "metadata": {},
   "outputs": [],
   "source": [
    "def clean_tags(soup):\n",
    "    for tag in soup.find_all([\"sup\", \"span\"]):\n",
    "        tag.decompose()"
   ]
  },
  {
   "cell_type": "code",
   "execution_count": 12,
   "id": "scenic-frequency",
   "metadata": {},
   "outputs": [],
   "source": [
    "def get_info_box(url):\n",
    "    movie_info = {}\n",
    "    r = requests.get(url)\n",
    "    soup = bs(r.content)\n",
    "    info_box = soup.find(class_=\"infobox vevent\")\n",
    "    info_rows = info_box.find_all(\"tr\")\n",
    "    \n",
    "    clean_tags(soup)\n",
    "    \n",
    "    for index, row in enumerate(info_rows):\n",
    "        if index == 0:\n",
    "            movie_info['title'] = row.find(\"th\").get_text(\" \", strip=True)\n",
    "        else:\n",
    "            header = row.find('th')\n",
    "            if header:\n",
    "                content_key = row.find(\"th\").get_text(\" \", strip=True)\n",
    "                content_value = get_content_value(row.find(\"td\"))\n",
    "                movie_info[content_key] = content_value\n",
    "            \n",
    "    return movie_info"
   ]
  },
  {
   "cell_type": "code",
   "execution_count": 13,
   "id": "generous-found",
   "metadata": {},
   "outputs": [
    {
     "name": "stdout",
     "output_type": "stream",
     "text": [
      "Zorro the Avenger\n",
      "'NoneType' object has no attribute 'find'\n",
      "The Sign of Zorro\n",
      "'NoneType' object has no attribute 'find'\n",
      "True-Life Adventures\n",
      "'NoneType' object has no attribute 'find_all'\n"
     ]
    }
   ],
   "source": [
    "base_path = \"https://en.wikipedia.org/\"\n",
    "\n",
    "movie_info_list = []\n",
    "for index, movie in enumerate(movies):\n",
    "    #if index == 5:\n",
    "     #   break\n",
    "    try:\n",
    "        relative_path = movie['href']\n",
    "       \n",
    "        full_path = base_path + relative_path\n",
    "        \n",
    "        #title = movie['title']\n",
    "        m = get_info_box(full_path)\n",
    "        \n",
    "        movie_info_list.append(m)\n",
    "        \n",
    "    # por si nos da error alguna película    \n",
    "    except Exception as e:\n",
    "        print(movie.get_text())\n",
    "        print(e)"
   ]
  },
  {
   "cell_type": "markdown",
   "id": "united-platform",
   "metadata": {},
   "source": [
    "### Separar las cadenas con nombres, no estaban en una `li`"
   ]
  },
  {
   "cell_type": "markdown",
   "id": "gorgeous-trade",
   "metadata": {},
   "source": [
    "Para esto tenemos que modificar las función `get_content_value`"
   ]
  },
  {
   "cell_type": "code",
   "execution_count": 9,
   "id": "dominant-following",
   "metadata": {},
   "outputs": [],
   "source": [
    "def get_content_value(row_data):\n",
    "    if row_data.find(\"li\"):\n",
    "        return [li.get_text(\" \", strip=True).replace(\"\\xa0\", \" \") for li in row_data.find_all(\"li\")]\n",
    "    elif row_data.find('br'):\n",
    "        return [text for text in row_data.stripped_strings]\n",
    "    else:\n",
    "        return row_data.get_text(\" \", strip=True).replace(\"\\xa0\", \" \")\n",
    "    "
   ]
  },
  {
   "cell_type": "code",
   "execution_count": 84,
   "id": "convertible-hamburg",
   "metadata": {},
   "outputs": [],
   "source": [
    "save_data(\"./data/disney_data_cleaned.json\", movie_info_list)"
   ]
  },
  {
   "cell_type": "markdown",
   "id": "challenging-fancy",
   "metadata": {},
   "source": [
    "### Convertir `Running time` en número"
   ]
  },
  {
   "cell_type": "code",
   "execution_count": 14,
   "id": "confidential-reception",
   "metadata": {},
   "outputs": [
    {
     "data": {
      "text/plain": [
       "{'title': 'Make Mine Music',\n",
       " 'Directed by': ['Jack Kinney',\n",
       "  'Clyde Geronimi',\n",
       "  'Hamilton Luske',\n",
       "  'Joshua Meador',\n",
       "  'Robert Cormack'],\n",
       " 'Produced by': 'Walt Disney',\n",
       " 'Story by': ['James Bodrero',\n",
       "  'Homer Brightman',\n",
       "  'Erwin Graham',\n",
       "  'Eric Gurney',\n",
       "  'T. Hee',\n",
       "  'Sylvia Holland',\n",
       "  'Dick Huemer',\n",
       "  'Dick Kelsey',\n",
       "  'Dick Kinney',\n",
       "  'Jesse Marsh',\n",
       "  'Tom Oreb',\n",
       "  'Cap Palmer',\n",
       "  'Erdman Penner',\n",
       "  'Dick Shaw',\n",
       "  'Harry Reeves',\n",
       "  'John Walbridge',\n",
       "  'Roy Williams'],\n",
       " 'Based on': ['\"',\n",
       "  'Casey at the Bat',\n",
       "  '\"',\n",
       "  'by',\n",
       "  'Ernest Thayer',\n",
       "  'Peter and the Wolf',\n",
       "  'by',\n",
       "  'Sergei Prokofiev'],\n",
       " 'Starring': 'Nelson Eddy',\n",
       " 'Music by': ['Eliot Daniel',\n",
       "  'Ken Darby',\n",
       "  'Charles Wolcott',\n",
       "  'Oliver Wallace',\n",
       "  'Edward Plumb'],\n",
       " 'Production company': 'Walt Disney Productions',\n",
       " 'Distributed by': 'RKO Radio Pictures, Inc.',\n",
       " 'Release date': ['April 20, 1946 (New York City premiere)',\n",
       "  'August 15, 1946 (U.S.)'],\n",
       " 'Running time': '75 minutes',\n",
       " 'Country': 'United States',\n",
       " 'Language': 'English',\n",
       " 'Budget': '$1.35 million',\n",
       " 'Box office': '$3.275 million (worldwide rentals)'}"
      ]
     },
     "execution_count": 14,
     "metadata": {},
     "output_type": "execute_result"
    }
   ],
   "source": [
    "movie_info_list[10]"
   ]
  },
  {
   "cell_type": "code",
   "execution_count": 88,
   "id": "physical-basic",
   "metadata": {},
   "outputs": [
    {
     "name": "stdout",
     "output_type": "stream",
     "text": [
      "['41 minutes (74 minutes 1966 release)', '83 minutes', '88 minutes', '126 minutes', '74 minutes', '64 minutes', '70 minutes', '42 minutes', '65 min.', '71 minutes', '75 minutes', '94 minutes', '73 minutes', '75 minutes', '82 minutes', '68 minutes', '74 minutes', '96 minutes', '75 minutes', '84 minutes', '77 minutes', '92 minutes', '69 minutes', '81 minutes', ['60 minutes (VHS version)', '71 minutes (original)'], '127 minutes', '92 minutes', '76 minutes', '75 minutes', '73 minutes', '85 minutes', '81 minutes', '70 minutes', '90 min.', '80 minutes', '75 minutes', '83 minutes', '83 minutes', '72 minutes', '97 minutes', '75 minutes', '104 minutes', '93 minutes', '105 minutes', '95 minutes', '97 minutes', '134 minutes', '69 minutes', '92 minutes', '126 minutes', '79 minutes', '97 minutes', '128 minutes', '74 minutes', '91 minutes', '105 minutes', '98 minutes', '130 minutes', '89 min.', '93 minutes', '67 minutes', '98 minutes', '100 minutes', '118 minutes', '103 Minutes', '110 minutes', '80 min.', '79 minutes', '91 minutes', '91 minutes', '97 minutes', '118 minutes', '139 minutes', '92 minutes', '131 mins.', '87 minutes', '116 minutes', '93 minutes', '110 min.', '110 min.', '131 minutes', '101 minutes', '108 minutes', '84 minutes', '78 minutes', '75 minutes', ['164 minutes', '(', 'Los Angeles', 'premiere)', '144 minutes', '(', 'New York City', 'premiere)', '118 minutes', '(General release)', '172 minutes', '(', \"Director's Cut\", ')'], '106 minutes', '110 minutes', '99 minutes', '113 mins.', '108 minutes', '112 minutes', '93 minutes', '91 minutes', '93 minutes', '100 minutes', '100 minutes', '79 minutes', '96 minutes', '113 minutes', '89 minutes', ['118 minutes (1971 original version)', '139 minutes (1996 reconstruction version)'], '92 minutes', '88 minutes', '92 minutes', '87 minutes', '93 minutes', '93 minutes', '93 minutes', '90 Minutes', '83 minutes', '96 minutes', '88 minutes', '89 minutes', '91 minutes', '93 minutes', '92 minutes', '97 min.', '100 minutes', '100 minutes', '89 minutes', '91 minutes', '112 minutes', '115 minutes', '95 minutes', '91 min.', '95 minutes', '104 minutes', '74 minutes', '48 minutes', '77 minutes', '104 minutes', '128 minutes', '101 minutes', '94 minutes', '104 minutes', '90 minutes', '100 minutes', '88 minutes', '93 minutes', '98 minutes', '100 minutes', '112 minutes', '84 minutes', '98 minutes', '97 minutes', '114 minutes', '96 minutes', '100 minutes', '109 minutes', '83 minutes', '90 minutes', '107 minutes', '96 minutes', '103 minutes', '91 min', '95 minutes', '105 minutes', '113 minutes', '80 minutes', '101 minutes', '89 minutes', '74 minutes', '90 minutes', '89 minutes', '110 minutes', '74 minutes', '93 minutes', '84 minutes', '83 minutes', '74 minutes', '77 minutes', '107 minutes', '93 minutes', '88 minutes', '108 minutes', '84 minutes', '121 minutes', '89 minutes', '104 minutes', '90 minutes', '86 minutes', '84 minutes', '108 minutes', '107 minutes', '96 minutes', '98 minutes', '105 minutes', '108 minutes', '94 minutes', '106 minutes', '102 minutes', '88 minutes', '102 minutes', '102 minutes', '97 minutes', '111 minutes', '100 minutes', '96 minutes', '98 minutes', '78 minutes', '81 minutes', '108 minutes', '89 minutes', '99 minutes', '89 minutes', '81 minutes', '92 minutes', '100 minutes', '89 minutes', '79 minutes', '91 minutes', '101 minutes', '104 minutes', '103 minutes', '86 minutes', '105 minutes', '93 minutes', '92 minutes', '98 minutes', '95 minutes', '93 minutes', '87 minutes', '93 minutes', '87 minutes', '128 minutes', '86 minutes', '95 minutes', '114 minutes', '93 minutes', '83 minutes', '83 minutes', '88 minutes', '78 minutes', '112 minutes', '92 minutes', '74 minutes', '78 minutes', '82 minutes', '104 minutes', '113 minutes', '100 minutes', '78 minutes', '83 minutes', '96 minutes', '115 minutes', '86 minutes', '92 minutes', '99 minutes', '73 minutes', '128 minutes', '85 minutes', '88 minutes', '125 minutes', '96 minutes', '104 minutes', '95 minutes', '72 minutes', '75 minutes', '61 minutes', '117 minutes', '94 minutes', '100 minutes', '143 minutes', '97 minutes', '85 minutes', '86 minutes', '50 minutes', '74 minutes', '136 minutes', '89 minutes', '76 minutes', '40 minutes', '120 minutes', '84 minutes', '113 minutes', '115 minutes', '131 minutes', '100 minutes', '68 minutes', '95 minutes', '97 minutes', '101 minutes', '119 minutes', '100 minutes', '76 minutes', '120 minutes', '81 minutes', '143 minutes', '106 minutes', '40 minutes', '120 minutes', '99 minutes', '82 minutes', '117 minutes', '150 minutes', '104 minutes', '76 minutes', '92 minutes', '95 minutes', '94 minutes', '167 minutes', '111 minutes', '82 minutes', '87 minutes', '110 minutes', '107 minutes', '124 minutes', '74 minutes', '83 minutes', '150 minutes', '97 minutes', '91 minutes', '100 minutes', ['111 minutes (theatrical)', '120 minutes (extended/Disney+)'], '96 minutes', '99 minutes', '85 minutes', ['76 minutes', '85 minutes'], '98 minutes', '97 minutes', ['99 minutes (UK)', '90 minutes (U.S.)'], '96 minutes', 'N/A', '90 minutes', '101 minutes', 'N/A', '101 minutes', '96 minutes', '88 minutes', '97 minutes', '108 minutes', ['104 minutes (Original cut)', '84 minutes (Disney cut)'], '116 minutes', '103 minutes', '109 minutes', '115 minutes', '74 minutes', '123 minutes', '108 minutes', '100 minutes', '101 minutes', '125 minutes', 'N/A', '90 minutes', '88 minutes', '109 minutes', '89 minutes', '104 minutes', '137 minutes', '106 minutes', '69 minutes', '103 minutes', '95 minutes', '132 minutes', '77 minutes', '96 minutes', '93 minutes', '104 minutes', '87 minutes', '101 minutes', '130 minutes', '77 minutes', '104 minutes', '149 minutes', '92 minutes', '102 minutes', '125 minutes', '107 minutes', '77 minutes', '124 minutes', '97 minutes', '84 minutes', '127 minutes', '81 minutes', '102 minutes', '124 minutes', '129 minutes', '106 minutes', '82 minutes', '130 minutes', '95 minutes', '154 minutes', '97 minutes', '117 minutes', '108 minutes', '106 minutes', '98 minutes', '114 minutes', '97 minutes', '117 minutes', '103 minutes', '124 minutes', '107 minutes', '161 minutes', '80 minutes', '129 minutes', '76 minutes', '129 minutes', '102 minutes', 'N/A', '162 minutes', '105 minutes', '109 minutes', '118 minutes', '104 minutes', '99 minutes', '112 minutes', '131 minutes', '112 minutes', '76 minutes', '128 minutes', '100 minutes', '118 minutes', '119 minutes', '104 minutes', '100 minutes', '103 minutes', '114 minutes', '99 minutes', '102 minutes', '107 minutes', '78 minutes', '89 minutes', '95 minutes', '160 minutes', '85 minutes', '100 minutes', '95 minutes', '115 minutes', '113 minutes', '119 minutes', '101 minutes', '95 minutes', '107 minutes', 'N/A', 'N/A', 'N/A', 'N/A', 'N/A', 'N/A', 'N/A', 'N/A', 'N/A', '107 minutes', 'N/A']\n"
     ]
    }
   ],
   "source": [
    "print([movie.get('Running time', 'N/A') for movie in movie_info_list])"
   ]
  },
  {
   "cell_type": "code",
   "execution_count": 15,
   "id": "russian-delivery",
   "metadata": {},
   "outputs": [],
   "source": [
    "def minutes_to_integer(running_time):\n",
    "    if running_time == 'N/A':\n",
    "        return None\n",
    "    if isinstance(running_time, list):\n",
    "        return int(running_time[0].split(' ')[0])\n",
    "    else:\n",
    "        return int(running_time.split(' ')[0])"
   ]
  },
  {
   "cell_type": "code",
   "execution_count": 16,
   "id": "coated-lunch",
   "metadata": {},
   "outputs": [],
   "source": [
    "for movie in movie_info_list:\n",
    "    movie['Running time (int)'] = minutes_to_integer(movie.get('Running time', 'N/A'))"
   ]
  },
  {
   "cell_type": "code",
   "execution_count": 17,
   "id": "delayed-cancellation",
   "metadata": {},
   "outputs": [
    {
     "name": "stdout",
     "output_type": "stream",
     "text": [
      "[41, 83, 88, 126, 74, 64, 70, 42, 65, 71, 75, 94, 73, 75, 82, 68, 74, 96, 75, 84, 77, 92, 69, 81, 60, 127, 92, 76, 75, 73, 85, 81, 70, 90, 80, 75, 83, 83, 72, 97, 75, 104, 93, 105, 95, 97, 134, 69, 92, 126, 79, 97, 128, 74, 91, 105, 98, 130, 89, 93, 67, 98, 100, 118, 103, 110, 80, 79, 91, 91, 97, 118, 139, 92, 131, 87, 116, 93, 110, 110, 131, 101, 108, 84, 78, 75, 164, 106, 110, 99, 113, 108, 112, 93, 91, 93, 100, 100, 79, 96, 113, 89, 118, 92, 88, 92, 87, 93, 93, 93, 90, 83, 96, 88, 89, 91, 93, 92, 97, 100, 100, 89, 91, 112, 115, 95, 91, 95, 104, 74, 48, 77, 104, 128, 101, 94, 104, 90, 100, 88, 93, 98, 100, 112, 84, 98, 97, 114, 96, 100, 109, 83, 90, 107, 96, 103, 91, 95, 105, 113, 80, 101, 89, 74, 90, 89, 110, 74, 93, 84, 83, 74, 77, 107, 93, 88, 108, 84, 121, 89, 104, 90, 86, 84, 108, 107, 96, 98, 105, 108, 94, 106, 102, 88, 102, 102, 97, 111, 100, 96, 98, 78, 81, 108, 89, 99, 89, 81, 92, 100, 89, 79, 91, 101, 104, 103, 86, 105, 93, 92, 98, 95, 93, 87, 93, 87, 128, 86, 95, 114, 93, 83, 83, 88, 78, 112, 92, 74, 78, 82, 104, 113, 100, 78, 83, 96, 115, 86, 92, 99, 73, 128, 85, 88, 125, 96, 104, 95, 72, 75, 61, 117, 94, 100, 143, 97, 85, 86, 50, 74, 136, 89, 76, 40, 120, 84, 113, 115, 131, 100, 68, 95, 97, 101, 119, 100, 76, 120, 81, 143, 106, 40, 120, 99, 82, 117, 150, 104, 76, 92, 95, 94, 167, 111, 82, 87, 110, 107, 124, 74, 83, 150, 97, 91, 100, 111, 96, 99, 85, 76, 98, 97, 99, 96, None, 90, 101, None, 101, 96, 88, 97, 108, 104, 116, 103, 109, 115, 74, 123, 108, 100, 101, 125, None, 90, 88, 109, 89, 104, 137, 106, 69, 103, 95, 132, 77, 96, 93, 104, 87, 101, 130, 77, 104, 149, 92, 102, 125, 107, 77, 124, 97, 84, 127, 81, 102, 124, 129, 106, 82, 130, 95, 154, 97, 117, 108, 106, 98, 114, 97, 117, 103, 124, 107, 161, 80, 129, 76, 129, 102, None, 162, 105, 109, 118, 104, 99, 112, 131, 112, 76, 128, 100, 118, 119, 104, 100, 103, 114, 99, 102, 107, 78, 89, 95, 160, 85, 100, 95, 115, 113, 119, 101, 95, 107, None, None, None, None, None, None, None, None, None, 107, None]\n"
     ]
    }
   ],
   "source": [
    "print([movie.get('Running time (int)', 'N/A') for movie in movie_info_list])"
   ]
  },
  {
   "cell_type": "code",
   "execution_count": 25,
   "id": "ruled-lesson",
   "metadata": {},
   "outputs": [
    {
     "data": {
      "text/plain": [
       "{'title': 'The Nutcracker and the Four Realms',\n",
       " 'Directed by': ['Lasse Hallström', 'Joe Johnston'],\n",
       " 'Produced by': ['Mark Gordon', 'Larry Franco'],\n",
       " 'Written by': 'Ashleigh Powell',\n",
       " 'Based on': ['\" The Nutcracker and the Mouse King \" by E. T. A. Hoffmann',\n",
       "  'The Nutcracker by Marius Petipa'],\n",
       " 'Starring': ['Keira Knightley',\n",
       "  'Mackenzie Foy',\n",
       "  'Jayden Fowora-Knight',\n",
       "  'Eugenio Derbez',\n",
       "  'Matthew Macfadyen',\n",
       "  'Richard E. Grant',\n",
       "  'Misty Copeland',\n",
       "  'Helen Mirren',\n",
       "  'Morgan Freeman'],\n",
       " 'Music by': 'James Newton Howard',\n",
       " 'Cinematography': 'Linus Sandgren',\n",
       " 'Edited by': 'Stuart Levy',\n",
       " 'Production companies': ['Walt Disney Pictures', 'The Mark Gordon Company'],\n",
       " 'Distributed by': 'Walt Disney Studios Motion Pictures',\n",
       " 'Release date': ['October 29, 2018 ( Dolby Theatre )',\n",
       "  'November 2, 2018 (United States)'],\n",
       " 'Running time': '99 minutes',\n",
       " 'Country': 'United States',\n",
       " 'Language': 'English',\n",
       " 'Budget': '$120–133 million',\n",
       " 'Box office': '$174 million',\n",
       " 'Running time (int)': 99,\n",
       " 'Budget (float)': 120.0,\n",
       " 'Box office (float)': 174000000.0}"
      ]
     },
     "execution_count": 25,
     "metadata": {},
     "output_type": "execute_result"
    }
   ],
   "source": [
    "movie_info_list[-40]"
   ]
  },
  {
   "cell_type": "markdown",
   "id": "objective-botswana",
   "metadata": {},
   "source": [
    "# 7 Convertir los valores de  `Budget`y `Box office` a decimal"
   ]
  },
  {
   "cell_type": "code",
   "execution_count": 35,
   "id": "approximate-rally",
   "metadata": {},
   "outputs": [],
   "source": [
    "from src.conversion import *"
   ]
  },
  {
   "cell_type": "code",
   "execution_count": 36,
   "id": "naughty-action",
   "metadata": {},
   "outputs": [],
   "source": [
    "money = money_conversion(movie_info_list[-40].get('Budget', 'N/A'))"
   ]
  },
  {
   "cell_type": "code",
   "execution_count": 37,
   "id": "fabulous-annual",
   "metadata": {},
   "outputs": [
    {
     "data": {
      "text/plain": [
       "120.0"
      ]
     },
     "execution_count": 37,
     "metadata": {},
     "output_type": "execute_result"
    }
   ],
   "source": [
    "money"
   ]
  },
  {
   "cell_type": "code",
   "execution_count": 38,
   "id": "international-merchant",
   "metadata": {},
   "outputs": [],
   "source": [
    "for movie in movie_info_list:\n",
    "    movie['Budget (float)'] = money_conversion(movie.get('Budget', 'N/A'))\n",
    "    movie['Box office (float)'] = money_conversion(movie.get('Box office', 'N/A'))"
   ]
  },
  {
   "cell_type": "code",
   "execution_count": 41,
   "id": "instant-charles",
   "metadata": {},
   "outputs": [
    {
     "name": "stdout",
     "output_type": "stream",
     "text": [
      "[None, 1490000.0, 2600000.0, 2280000.0, 600000.0, 950000.0, 858000.0, None, 788000.0, None, 1350000.0, 2125000.0, None, 1500000.0, 1500000.0, None, 2900000.0, 1800000.0, 3000000.0, None, 4000000.0, 2000000.0, 300000.0, 1800000.0, None, 5000000.0, None, 4000000.0, None, None, None, None, None, None, 700000.0, None, None, None, None, None, 6000000.0, 1000000.0, None, 2000000.0, None, None, 2500000.0, None, None, 4000000.0, 3600000.0, None, None, None, None, 3000000.0, None, 3000000.0, None, None, None, None, None, None, None, None, None, 3000000.0, None, None, None, None, 4.4, None, None, None, None, None, None, None, None, None, None, None, 4000000.0, None, 5000000.0, None, None, None, None, 5000000.0, None, None, None, None, None, None, 4000000.0, None, None, None, 6300000.0, None, None, None, None, None, None, None, None, 5000000.0, None, None, None, None, 8000000.0, None, None, None, None, None, 1000000.0, None, None, None, None, 5000000.0, None, None, None, 7500000.0, None, 10000000.0, None, None, 3500000.0, None, None, None, 5250000.0, 20000000.0, None, None, 9000000.0, None, 6000000.0, 20000000.0, None, None, 18000000.0, 12000000.0, 14000000.0, None, None, 5000000.0, None, 20000000.0, 11000000.0, 28000000.0, 44000000.0, None, None, 14000000.0, 9000000.0, None, 8700000.0, 31000000.0, 18000000.0, 5000000.0, 40000000.0, 20000000.0, None, 14000000.0, 8700000.0, None, 35000000.0, 25000000.0, 15000000.0, 40000000.0, 14000000.0, 28000000.0, 12000000.0, None, None, 6500000.0, 28000000.0, 17000000.0, 30000000.0, None, 13000000.0, None, None, 45000000.0, 31000000.0, None, 22000000.0, 30000000.0, None, 22000000.0, 32000000.0, None, 55000000.0, 24000000.0, 15000000.0, 12000000.0, None, 30000000.0, None, 31000000.0, None, 38000000.0, 100000000.0, 15000000.0, None, 75000000.0, None, 32000000.0, 85000000.0, 55000000.0, 3000000.0, 16000000.0, 80000000.0, 30000000.0, 24000000.0, 90000000.0, 15000000.0, 30000000.0, 120000000.0, 90000000.0, 65000000.0, 5000000.0, None, 130000000.0, 90000000.0, 10000000.0, 90000000.0, 85000000.0, 15000000.0, 127500000.0, 65000000.0, 30000000.0, 85000000.0, 100000000.0, 23000000.0, 90.0, 26000000.0, 25000000.0, 115000000.0, 33000000.0, 20000000.0, 22000000.0, 80000000.0, 35000000.0, 15.0, 15000000.0, 65000000.0, 140000000.0, 20000000.0, 46000000.0, 13000000.0, 20000000.0, 17000000.0, 94000000.0, 140000000.0, 26000000.0, 46000000.0, 90000000.0, None, 10000000.0, 28000000.0, 15000000.0, 110000000.0, None, 110000000.0, None, 45000000.0, 92000000.0, 100000000.0, None, 20000000.0, 56000000.0, 25000000.0, 50000000.0, None, 35000000.0, 35000000.0, 25000000.0, 150000000.0, 180000000.0, 30000000.0, 1000000.0, 40000000.0, 50000000.0, 80000000.0, 120000000.0, 225000000.0, 30000000.0, 26000000.0, 12000000.0, 20.0, 150000000.0, 300000000.0, 150000000.0, 25000000.0, None, 22000000.0, 85000000.0, 130000000.0, 7000000.0, 25000000.0, 225000000.0, 180000000.0, 20000000.0, None, 11000000.0, 150000000.0, 80000000.0, None, None, 50000000.0, 30000000.0, 47000000.0, 175000000.0, None, 150000000.0, None, None, 8000000.0, 175000000.0, 35000000.0, 105000000.0, 200000000.0, 80000000.0, 200000000.0, 200000000.0, 150000000.0, 22000000.0, None, 35000000.0, None, 260000000.0, None, 170000000.0, 3800000.0, None, 150000000.0, None, 5000000.0, 8000000.0, 410600000.0, 200000000.0, 30000000.0, 45000000.0, 23000000.0, 306600000.0, 5000000.0, None, 185000000.0, 25000000.0, 39000000.0, 165000000.0, 200.0, None, 200000000.0, 225.0, 50000000.0, 150000000.0, 35000000.0, 51000000.0, 5000000.0, 25000000.0, 180.0, 50000000.0, 3200000.0, 28000000.0, 165000000.0, 50000000.0, 17000000.0, 95.0, 5.0, 180.0, 175000000.0, None, 175.0, 70.0, 150000000.0, 175.0, None, 170000000.0, 175.0, 140000000.0, 65000000.0, 15000000.0, 150.0, None, 8000000.0, 160.0, 5.0, 230.0, 175000000.0, None, None, 175.0, 100.0, 200000000.0, 70000000.0, 120.0, 175000000.0, 130000000.0, 170000000.0, None, 183000000.0, 200000000.0, 250.0, 185000000.0, 60000000.0, None, 150000000.0, 40000000.0, 42000000.0, 175.0, None, None, None, 125000000.0, 12500000.0, None, 24000000.0, None, 200000000.0, None, None, 150000000.0, None, 100000000.0, None, None, None, None, None, None, None, None, None, 85000000.0, 150.0]\n"
     ]
    }
   ],
   "source": [
    "print([movie.get('Budget (float)', 'N/A') for movie in movie_info_list])"
   ]
  },
  {
   "cell_type": "code",
   "execution_count": null,
   "id": "agricultural-fitting",
   "metadata": {},
   "outputs": [],
   "source": []
  }
 ],
 "metadata": {
  "kernelspec": {
   "display_name": "Python 3",
   "language": "python",
   "name": "python3"
  },
  "language_info": {
   "codemirror_mode": {
    "name": "ipython",
    "version": 3
   },
   "file_extension": ".py",
   "mimetype": "text/x-python",
   "name": "python",
   "nbconvert_exporter": "python",
   "pygments_lexer": "ipython3",
   "version": "3.7.0"
  }
 },
 "nbformat": 4,
 "nbformat_minor": 5
}
