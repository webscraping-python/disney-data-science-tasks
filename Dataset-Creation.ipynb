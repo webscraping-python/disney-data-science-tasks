{
 "cells": [
  {
   "cell_type": "markdown",
   "id": "contrary-activation",
   "metadata": {},
   "source": [
    "# 1. Importar librerías"
   ]
  },
  {
   "cell_type": "code",
   "execution_count": 1,
   "id": "adverse-voice",
   "metadata": {},
   "outputs": [],
   "source": [
    "from bs4 import BeautifulSoup as bs\n",
    "import requests"
   ]
  },
  {
   "cell_type": "markdown",
   "id": "acting-fleet",
   "metadata": {},
   "source": [
    " https://en.wikipedia.org/wiki/List_of_Walt_Disney_Pictures_films"
   ]
  },
  {
   "cell_type": "markdown",
   "id": "greek-moderator",
   "metadata": {},
   "source": [
    "# 2 Cargar la pagina web y convertir a un objeto BeautifulSoup"
   ]
  },
  {
   "cell_type": "code",
   "execution_count": 3,
   "id": "current-illustration",
   "metadata": {},
   "outputs": [],
   "source": [
    "url = \"https://en.wikipedia.org/wiki/Toy_Story_3\""
   ]
  },
  {
   "cell_type": "code",
   "execution_count": 4,
   "id": "visible-speaker",
   "metadata": {},
   "outputs": [],
   "source": [
    "r = requests.get(url)"
   ]
  },
  {
   "cell_type": "code",
   "execution_count": 5,
   "id": "flexible-republican",
   "metadata": {},
   "outputs": [
    {
     "data": {
      "text/plain": [
       "<Response [200]>"
      ]
     },
     "execution_count": 5,
     "metadata": {},
     "output_type": "execute_result"
    }
   ],
   "source": [
    "r"
   ]
  },
  {
   "cell_type": "code",
   "execution_count": 6,
   "id": "digital-mongolia",
   "metadata": {},
   "outputs": [],
   "source": [
    "soup = bs(r.content)"
   ]
  },
  {
   "cell_type": "markdown",
   "id": "fixed-jonathan",
   "metadata": {},
   "source": [
    "Imprimir html"
   ]
  },
  {
   "cell_type": "code",
   "execution_count": 9,
   "id": "amateur-cycle",
   "metadata": {},
   "outputs": [],
   "source": [
    "contents = soup.prettify()\n",
    "#contents"
   ]
  },
  {
   "cell_type": "code",
   "execution_count": 118,
   "id": "emerging-jungle",
   "metadata": {},
   "outputs": [],
   "source": [
    "info_box = soup.find(class_ = \"infobox vevent\")"
   ]
  },
  {
   "cell_type": "code",
   "execution_count": 119,
   "id": "ongoing-saturn",
   "metadata": {},
   "outputs": [
    {
     "data": {
      "text/plain": [
       "'Toy Story 3Theatrical release posterDirected byLee UnkrichProduced byDarla K. AndersonScreenplay byMichael ArndtStory by\\nJohn Lasseter\\nAndrew Stanton\\nLee Unkrich\\nStarring\\nTom Hanks\\nTim Allen\\nJoan Cusack\\nDon Rickles\\nWallace Shawn\\nJohn Ratzenberger\\nEstelle Harris\\nNed Beatty\\nMichael Keaton\\nJodi Benson\\nJohn Morris\\nMusic byRandy NewmanCinematography\\nJeremy Lasky\\nKim White\\nEdited byKen SchretzmannProductioncompanies \\nWalt Disney Pictures\\nPixar Animation Studios\\nDistributed byWalt Disney StudiosMotion PicturesRelease date\\nJune\\xa012,\\xa02010\\xa0(2010-06-12) (Taormina Film Fest)\\nJune\\xa018,\\xa02010\\xa0(2010-06-18) (United States)\\nRunning time103 minutes[1]CountryUnited StatesLanguageEnglishBudget$200\\xa0million[1]Box office$1.067\\xa0billion[1]'"
      ]
     },
     "execution_count": 119,
     "metadata": {},
     "output_type": "execute_result"
    }
   ],
   "source": [
    "info_box.get_text()"
   ]
  },
  {
   "cell_type": "code",
   "execution_count": 17,
   "id": "adapted-explorer",
   "metadata": {},
   "outputs": [],
   "source": [
    "#print(info_box.prettify())"
   ]
  },
  {
   "cell_type": "code",
   "execution_count": 120,
   "id": "joined-fetish",
   "metadata": {},
   "outputs": [],
   "source": [
    "info_rows = info_box.find_all('tr')"
   ]
  },
  {
   "cell_type": "code",
   "execution_count": 123,
   "id": "skilled-unknown",
   "metadata": {},
   "outputs": [
    {
     "name": "stdout",
     "output_type": "stream",
     "text": [
      "<tr>\n",
      " <th class=\"infobox-above summary\" colspan=\"2\" style=\"font-size:110%;font-style:italic;\">\n",
      "  Toy Story 3\n",
      " </th>\n",
      "</tr>\n",
      "\n",
      "<tr>\n",
      " <td class=\"infobox-image\" colspan=\"2\">\n",
      "  <a class=\"image\" href=\"/wiki/File:Toy_Story_3_poster.jpg\" title=\"All of the toys packed close together, holding up a large numeral '3', with Buzz, who is putting a friendly arm around Woody's shoulder, and Woody holding the top of the 3.\">\n",
      "   <img alt=\"All of the toys packed close together, holding up a large numeral '3', with Buzz, who is putting a friendly arm around Woody's shoulder, and Woody holding the top of the 3.\" class=\"thumbborder\" data-file-height=\"326\" data-file-width=\"220\" decoding=\"async\" height=\"326\" src=\"//upload.wikimedia.org/wikipedia/en/6/69/Toy_Story_3_poster.jpg\" width=\"220\"/>\n",
      "  </a>\n",
      "  <div class=\"infobox-caption\" style=\"font-size:95%;padding:0.35em 0.35em 0.25em;line-height:1.25em;\">\n",
      "   Theatrical release poster\n",
      "  </div>\n",
      " </td>\n",
      "</tr>\n",
      "\n",
      "<tr>\n",
      " <th class=\"infobox-label\" scope=\"row\" style=\"white-space:nowrap;padding-right:0.65em;\">\n",
      "  Directed by\n",
      " </th>\n",
      " <td class=\"infobox-data\">\n",
      "  <a href=\"/wiki/Lee_Unkrich\" title=\"Lee Unkrich\">\n",
      "   Lee Unkrich\n",
      "  </a>\n",
      " </td>\n",
      "</tr>\n",
      "\n",
      "<tr>\n",
      " <th class=\"infobox-label\" scope=\"row\" style=\"white-space:nowrap;padding-right:0.65em;\">\n",
      "  Produced by\n",
      " </th>\n",
      " <td class=\"infobox-data\">\n",
      "  <a href=\"/wiki/Darla_K._Anderson\" title=\"Darla K. Anderson\">\n",
      "   Darla K. Anderson\n",
      "  </a>\n",
      " </td>\n",
      "</tr>\n",
      "\n",
      "<tr>\n",
      " <th class=\"infobox-label\" scope=\"row\" style=\"white-space:nowrap;padding-right:0.65em;\">\n",
      "  Screenplay by\n",
      " </th>\n",
      " <td class=\"infobox-data\">\n",
      "  <a href=\"/wiki/Michael_Arndt\" title=\"Michael Arndt\">\n",
      "   Michael Arndt\n",
      "  </a>\n",
      " </td>\n",
      "</tr>\n",
      "\n",
      "<tr>\n",
      " <th class=\"infobox-label\" scope=\"row\" style=\"white-space:nowrap;padding-right:0.65em;\">\n",
      "  Story by\n",
      " </th>\n",
      " <td class=\"infobox-data\">\n",
      "  <div class=\"plainlist\">\n",
      "   <ul>\n",
      "    <li>\n",
      "     <a href=\"/wiki/John_Lasseter\" title=\"John Lasseter\">\n",
      "      John Lasseter\n",
      "     </a>\n",
      "    </li>\n",
      "    <li>\n",
      "     <a href=\"/wiki/Andrew_Stanton\" title=\"Andrew Stanton\">\n",
      "      Andrew Stanton\n",
      "     </a>\n",
      "    </li>\n",
      "    <li>\n",
      "     Lee Unkrich\n",
      "    </li>\n",
      "   </ul>\n",
      "  </div>\n",
      " </td>\n",
      "</tr>\n",
      "\n",
      "<tr>\n",
      " <th class=\"infobox-label\" scope=\"row\" style=\"white-space:nowrap;padding-right:0.65em;\">\n",
      "  Starring\n",
      " </th>\n",
      " <td class=\"infobox-data\">\n",
      "  <div class=\"plainlist\">\n",
      "   <ul>\n",
      "    <li>\n",
      "     <a href=\"/wiki/Tom_Hanks\" title=\"Tom Hanks\">\n",
      "      Tom Hanks\n",
      "     </a>\n",
      "    </li>\n",
      "    <li>\n",
      "     <a href=\"/wiki/Tim_Allen\" title=\"Tim Allen\">\n",
      "      Tim Allen\n",
      "     </a>\n",
      "    </li>\n",
      "    <li>\n",
      "     <a href=\"/wiki/Joan_Cusack\" title=\"Joan Cusack\">\n",
      "      Joan Cusack\n",
      "     </a>\n",
      "    </li>\n",
      "    <li>\n",
      "     <a href=\"/wiki/Don_Rickles\" title=\"Don Rickles\">\n",
      "      Don Rickles\n",
      "     </a>\n",
      "    </li>\n",
      "    <li>\n",
      "     <a href=\"/wiki/Wallace_Shawn\" title=\"Wallace Shawn\">\n",
      "      Wallace Shawn\n",
      "     </a>\n",
      "    </li>\n",
      "    <li>\n",
      "     <a href=\"/wiki/John_Ratzenberger\" title=\"John Ratzenberger\">\n",
      "      John Ratzenberger\n",
      "     </a>\n",
      "    </li>\n",
      "    <li>\n",
      "     <a href=\"/wiki/Estelle_Harris\" title=\"Estelle Harris\">\n",
      "      Estelle Harris\n",
      "     </a>\n",
      "    </li>\n",
      "    <li>\n",
      "     <a href=\"/wiki/Ned_Beatty\" title=\"Ned Beatty\">\n",
      "      Ned Beatty\n",
      "     </a>\n",
      "    </li>\n",
      "    <li>\n",
      "     <a href=\"/wiki/Michael_Keaton\" title=\"Michael Keaton\">\n",
      "      Michael Keaton\n",
      "     </a>\n",
      "    </li>\n",
      "    <li>\n",
      "     <a href=\"/wiki/Jodi_Benson\" title=\"Jodi Benson\">\n",
      "      Jodi Benson\n",
      "     </a>\n",
      "    </li>\n",
      "    <li>\n",
      "     <a href=\"/wiki/John_Morris_(actor)\" title=\"John Morris (actor)\">\n",
      "      John Morris\n",
      "     </a>\n",
      "    </li>\n",
      "   </ul>\n",
      "  </div>\n",
      " </td>\n",
      "</tr>\n",
      "\n",
      "<tr>\n",
      " <th class=\"infobox-label\" scope=\"row\" style=\"white-space:nowrap;padding-right:0.65em;\">\n",
      "  Music by\n",
      " </th>\n",
      " <td class=\"infobox-data\">\n",
      "  <a href=\"/wiki/Randy_Newman\" title=\"Randy Newman\">\n",
      "   Randy Newman\n",
      "  </a>\n",
      " </td>\n",
      "</tr>\n",
      "\n",
      "<tr>\n",
      " <th class=\"infobox-label\" scope=\"row\" style=\"white-space:nowrap;padding-right:0.65em;\">\n",
      "  Cinematography\n",
      " </th>\n",
      " <td class=\"infobox-data\">\n",
      "  <div class=\"plainlist\">\n",
      "   <ul>\n",
      "    <li>\n",
      "     Jeremy Lasky\n",
      "    </li>\n",
      "    <li>\n",
      "     Kim White\n",
      "    </li>\n",
      "   </ul>\n",
      "  </div>\n",
      " </td>\n",
      "</tr>\n",
      "\n",
      "<tr>\n",
      " <th class=\"infobox-label\" scope=\"row\" style=\"white-space:nowrap;padding-right:0.65em;\">\n",
      "  Edited by\n",
      " </th>\n",
      " <td class=\"infobox-data\">\n",
      "  <a href=\"/wiki/Ken_Schretzmann\" title=\"Ken Schretzmann\">\n",
      "   Ken Schretzmann\n",
      "  </a>\n",
      " </td>\n",
      "</tr>\n",
      "\n",
      "<tr>\n",
      " <th class=\"infobox-label\" scope=\"row\" style=\"white-space:nowrap;padding-right:0.65em;\">\n",
      "  <div style=\"display:inline-block; padding:0.1em 0;line-height:1.2em;\">\n",
      "   Production\n",
      "   <br/>\n",
      "   companies\n",
      "  </div>\n",
      " </th>\n",
      " <td class=\"infobox-data\">\n",
      "  <div style=\"vertical-align:middle;\">\n",
      "   <div class=\"plainlist\">\n",
      "    <ul>\n",
      "     <li>\n",
      "      <a href=\"/wiki/Walt_Disney_Pictures\" title=\"Walt Disney Pictures\">\n",
      "       Walt Disney Pictures\n",
      "      </a>\n",
      "     </li>\n",
      "     <li>\n",
      "      <a class=\"mw-redirect\" href=\"/wiki/Pixar_Animation_Studios\" title=\"Pixar Animation Studios\">\n",
      "       Pixar Animation Studios\n",
      "      </a>\n",
      "     </li>\n",
      "    </ul>\n",
      "   </div>\n",
      "  </div>\n",
      " </td>\n",
      "</tr>\n",
      "\n",
      "<tr>\n",
      " <th class=\"infobox-label\" scope=\"row\" style=\"white-space:nowrap;padding-right:0.65em;\">\n",
      "  Distributed by\n",
      " </th>\n",
      " <td class=\"infobox-data\">\n",
      "  <a href=\"/wiki/Walt_Disney_Studios_Motion_Pictures\" title=\"Walt Disney Studios Motion Pictures\">\n",
      "   Walt Disney Studios\n",
      "   <br/>\n",
      "   Motion Pictures\n",
      "  </a>\n",
      " </td>\n",
      "</tr>\n",
      "\n",
      "<tr>\n",
      " <th class=\"infobox-label\" scope=\"row\" style=\"white-space:nowrap;padding-right:0.65em;\">\n",
      "  <div style=\"display:inline-block; padding:0.1em 0;line-height:1.2em;white-space:normal;\">\n",
      "   Release date\n",
      "  </div>\n",
      " </th>\n",
      " <td class=\"infobox-data\">\n",
      "  <div class=\"plainlist\">\n",
      "   <ul>\n",
      "    <li>\n",
      "     June 12, 2010\n",
      "     <span style=\"display:none\">\n",
      "      (\n",
      "      <span class=\"bday dtstart published updated\">\n",
      "       2010-06-12\n",
      "      </span>\n",
      "      )\n",
      "     </span>\n",
      "     (\n",
      "     <a href=\"/wiki/Taormina_Film_Fest\" title=\"Taormina Film Fest\">\n",
      "      Taormina Film Fest\n",
      "     </a>\n",
      "     )\n",
      "    </li>\n",
      "    <li>\n",
      "     June 18, 2010\n",
      "     <span style=\"display:none\">\n",
      "      (\n",
      "      <span class=\"bday dtstart published updated\">\n",
      "       2010-06-18\n",
      "      </span>\n",
      "      )\n",
      "     </span>\n",
      "     (United States)\n",
      "    </li>\n",
      "   </ul>\n",
      "  </div>\n",
      " </td>\n",
      "</tr>\n",
      "\n",
      "<tr>\n",
      " <th class=\"infobox-label\" scope=\"row\" style=\"white-space:nowrap;padding-right:0.65em;\">\n",
      "  <div style=\"display:inline-block; padding:0.1em 0;line-height:1.2em;white-space:normal;\">\n",
      "   Running time\n",
      "  </div>\n",
      " </th>\n",
      " <td class=\"infobox-data\">\n",
      "  103 minutes\n",
      "  <sup class=\"reference\" id=\"cite_ref-mojo1_1-0\">\n",
      "   <a href=\"#cite_note-mojo1-1\">\n",
      "    [1]\n",
      "   </a>\n",
      "  </sup>\n",
      " </td>\n",
      "</tr>\n",
      "\n",
      "<tr>\n",
      " <th class=\"infobox-label\" scope=\"row\" style=\"white-space:nowrap;padding-right:0.65em;\">\n",
      "  Country\n",
      " </th>\n",
      " <td class=\"infobox-data\">\n",
      "  United States\n",
      " </td>\n",
      "</tr>\n",
      "\n",
      "<tr>\n",
      " <th class=\"infobox-label\" scope=\"row\" style=\"white-space:nowrap;padding-right:0.65em;\">\n",
      "  Language\n",
      " </th>\n",
      " <td class=\"infobox-data\">\n",
      "  English\n",
      " </td>\n",
      "</tr>\n",
      "\n",
      "<tr>\n",
      " <th class=\"infobox-label\" scope=\"row\" style=\"white-space:nowrap;padding-right:0.65em;\">\n",
      "  Budget\n",
      " </th>\n",
      " <td class=\"infobox-data\">\n",
      "  $200 million\n",
      "  <sup class=\"reference\" id=\"cite_ref-mojo1_1-1\">\n",
      "   <a href=\"#cite_note-mojo1-1\">\n",
      "    [1]\n",
      "   </a>\n",
      "  </sup>\n",
      " </td>\n",
      "</tr>\n",
      "\n",
      "<tr>\n",
      " <th class=\"infobox-label\" scope=\"row\" style=\"white-space:nowrap;padding-right:0.65em;\">\n",
      "  Box office\n",
      " </th>\n",
      " <td class=\"infobox-data\">\n",
      "  $1.067 billion\n",
      "  <sup class=\"reference\" id=\"cite_ref-mojo1_1-2\">\n",
      "   <a href=\"#cite_note-mojo1-1\">\n",
      "    [1]\n",
      "   </a>\n",
      "  </sup>\n",
      " </td>\n",
      "</tr>\n"
     ]
    }
   ],
   "source": [
    "# Imprimimos todas filas que contengan `tr`\n",
    "for row in info_rows:\n",
    "    print(row.prettify())"
   ]
  },
  {
   "cell_type": "code",
   "execution_count": 124,
   "id": "returning-vegetation",
   "metadata": {},
   "outputs": [
    {
     "data": {
      "text/plain": [
       "18"
      ]
     },
     "execution_count": 124,
     "metadata": {},
     "output_type": "execute_result"
    }
   ],
   "source": [
    "len(info_rows)"
   ]
  },
  {
   "cell_type": "code",
   "execution_count": 128,
   "id": "precious-fortune",
   "metadata": {},
   "outputs": [
    {
     "data": {
      "text/plain": [
       "<tr><th class=\"infobox-label\" scope=\"row\" style=\"white-space:nowrap;padding-right:0.65em;\">Box office</th><td class=\"infobox-data\">$1.067 billion<sup class=\"reference\" id=\"cite_ref-mojo1_1-2\"><a href=\"#cite_note-mojo1-1\">[1]</a></sup></td></tr>"
      ]
     },
     "execution_count": 128,
     "metadata": {},
     "output_type": "execute_result"
    }
   ],
   "source": [
    "info_rows[17]"
   ]
  },
  {
   "cell_type": "markdown",
   "id": "binary-sitting",
   "metadata": {},
   "source": [
    "# 3. Creamos un diccionario con las información"
   ]
  },
  {
   "cell_type": "code",
   "execution_count": 134,
   "id": "limiting-shell",
   "metadata": {},
   "outputs": [],
   "source": [
    "movie_info = {}"
   ]
  },
  {
   "cell_type": "code",
   "execution_count": 126,
   "id": "moral-equity",
   "metadata": {},
   "outputs": [],
   "source": [
    "def get_content_value(row_data):\n",
    "    if row_data.find(\"li\"):\n",
    "        return [li.get_text(\" \", strip=True).replace(\"\\xa0\", \" \") for li in row_data.find_all(\"li\")]\n",
    "    else:\n",
    "        return row_data.get_text(\" \", strip=True).replace(\"\\xa0\", \" \")"
   ]
  },
  {
   "cell_type": "code",
   "execution_count": 136,
   "id": "activated-reply",
   "metadata": {},
   "outputs": [
    {
     "name": "stdout",
     "output_type": "stream",
     "text": [
      "0\n",
      "1\n",
      "2\n",
      "<tr><th class=\"infobox-label\" scope=\"row\" style=\"white-space:nowrap;padding-right:0.65em;\">Directed by</th><td class=\"infobox-data\"><a href=\"/wiki/Lee_Unkrich\" title=\"Lee Unkrich\">Lee Unkrich</a></td></tr>\n",
      "3\n",
      "<tr><th class=\"infobox-label\" scope=\"row\" style=\"white-space:nowrap;padding-right:0.65em;\">Produced by</th><td class=\"infobox-data\"><a href=\"/wiki/Darla_K._Anderson\" title=\"Darla K. Anderson\">Darla K. Anderson</a></td></tr>\n",
      "4\n",
      "<tr><th class=\"infobox-label\" scope=\"row\" style=\"white-space:nowrap;padding-right:0.65em;\">Screenplay by</th><td class=\"infobox-data\"><a href=\"/wiki/Michael_Arndt\" title=\"Michael Arndt\">Michael Arndt</a></td></tr>\n",
      "5\n",
      "<tr><th class=\"infobox-label\" scope=\"row\" style=\"white-space:nowrap;padding-right:0.65em;\">Story by</th><td class=\"infobox-data\"><div class=\"plainlist\">\n",
      "<ul><li><a href=\"/wiki/John_Lasseter\" title=\"John Lasseter\">John Lasseter</a></li>\n",
      "<li><a href=\"/wiki/Andrew_Stanton\" title=\"Andrew Stanton\">Andrew Stanton</a></li>\n",
      "<li>Lee Unkrich</li></ul>\n",
      "</div></td></tr>\n",
      "6\n",
      "<tr><th class=\"infobox-label\" scope=\"row\" style=\"white-space:nowrap;padding-right:0.65em;\">Starring</th><td class=\"infobox-data\"><div class=\"plainlist\">\n",
      "<ul><li><a href=\"/wiki/Tom_Hanks\" title=\"Tom Hanks\">Tom Hanks</a></li>\n",
      "<li><a href=\"/wiki/Tim_Allen\" title=\"Tim Allen\">Tim Allen</a></li>\n",
      "<li><a href=\"/wiki/Joan_Cusack\" title=\"Joan Cusack\">Joan Cusack</a></li>\n",
      "<li><a href=\"/wiki/Don_Rickles\" title=\"Don Rickles\">Don Rickles</a></li>\n",
      "<li><a href=\"/wiki/Wallace_Shawn\" title=\"Wallace Shawn\">Wallace Shawn</a></li>\n",
      "<li><a href=\"/wiki/John_Ratzenberger\" title=\"John Ratzenberger\">John Ratzenberger</a></li>\n",
      "<li><a href=\"/wiki/Estelle_Harris\" title=\"Estelle Harris\">Estelle Harris</a></li>\n",
      "<li><a href=\"/wiki/Ned_Beatty\" title=\"Ned Beatty\">Ned Beatty</a></li>\n",
      "<li><a href=\"/wiki/Michael_Keaton\" title=\"Michael Keaton\">Michael Keaton</a></li>\n",
      "<li><a href=\"/wiki/Jodi_Benson\" title=\"Jodi Benson\">Jodi Benson</a></li>\n",
      "<li><a href=\"/wiki/John_Morris_(actor)\" title=\"John Morris (actor)\">John Morris</a></li></ul>\n",
      "</div></td></tr>\n",
      "7\n",
      "<tr><th class=\"infobox-label\" scope=\"row\" style=\"white-space:nowrap;padding-right:0.65em;\">Music by</th><td class=\"infobox-data\"><a href=\"/wiki/Randy_Newman\" title=\"Randy Newman\">Randy Newman</a></td></tr>\n",
      "8\n",
      "<tr><th class=\"infobox-label\" scope=\"row\" style=\"white-space:nowrap;padding-right:0.65em;\">Cinematography</th><td class=\"infobox-data\"><div class=\"plainlist\">\n",
      "<ul><li>Jeremy Lasky</li>\n",
      "<li>Kim White</li></ul>\n",
      "</div></td></tr>\n",
      "9\n",
      "<tr><th class=\"infobox-label\" scope=\"row\" style=\"white-space:nowrap;padding-right:0.65em;\">Edited by</th><td class=\"infobox-data\"><a href=\"/wiki/Ken_Schretzmann\" title=\"Ken Schretzmann\">Ken Schretzmann</a></td></tr>\n",
      "10\n",
      "<tr><th class=\"infobox-label\" scope=\"row\" style=\"white-space:nowrap;padding-right:0.65em;\"><div style=\"display:inline-block; padding:0.1em 0;line-height:1.2em;\">Production<br/>companies </div></th><td class=\"infobox-data\"><div style=\"vertical-align:middle;\"><div class=\"plainlist\">\n",
      "<ul><li><a href=\"/wiki/Walt_Disney_Pictures\" title=\"Walt Disney Pictures\">Walt Disney Pictures</a></li>\n",
      "<li><a class=\"mw-redirect\" href=\"/wiki/Pixar_Animation_Studios\" title=\"Pixar Animation Studios\">Pixar Animation Studios</a></li></ul>\n",
      "</div></div></td></tr>\n",
      "11\n",
      "<tr><th class=\"infobox-label\" scope=\"row\" style=\"white-space:nowrap;padding-right:0.65em;\">Distributed by</th><td class=\"infobox-data\"><a href=\"/wiki/Walt_Disney_Studios_Motion_Pictures\" title=\"Walt Disney Studios Motion Pictures\">Walt Disney Studios<br/>Motion Pictures</a></td></tr>\n",
      "12\n",
      "<tr><th class=\"infobox-label\" scope=\"row\" style=\"white-space:nowrap;padding-right:0.65em;\"><div style=\"display:inline-block; padding:0.1em 0;line-height:1.2em;white-space:normal;\">Release date</div></th><td class=\"infobox-data\"><div class=\"plainlist\">\n",
      "<ul><li>June 12, 2010<span style=\"display:none\"> (<span class=\"bday dtstart published updated\">2010-06-12</span>)</span> (<a href=\"/wiki/Taormina_Film_Fest\" title=\"Taormina Film Fest\">Taormina Film Fest</a>)</li>\n",
      "<li>June 18, 2010<span style=\"display:none\"> (<span class=\"bday dtstart published updated\">2010-06-18</span>)</span> (United States)</li></ul>\n",
      "</div></td></tr>\n",
      "13\n",
      "<tr><th class=\"infobox-label\" scope=\"row\" style=\"white-space:nowrap;padding-right:0.65em;\"><div style=\"display:inline-block; padding:0.1em 0;line-height:1.2em;white-space:normal;\">Running time</div></th><td class=\"infobox-data\">103 minutes<sup class=\"reference\" id=\"cite_ref-mojo1_1-0\"><a href=\"#cite_note-mojo1-1\">[1]</a></sup></td></tr>\n",
      "14\n",
      "<tr><th class=\"infobox-label\" scope=\"row\" style=\"white-space:nowrap;padding-right:0.65em;\">Country</th><td class=\"infobox-data\">United States</td></tr>\n",
      "15\n",
      "<tr><th class=\"infobox-label\" scope=\"row\" style=\"white-space:nowrap;padding-right:0.65em;\">Language</th><td class=\"infobox-data\">English</td></tr>\n",
      "16\n",
      "<tr><th class=\"infobox-label\" scope=\"row\" style=\"white-space:nowrap;padding-right:0.65em;\">Budget</th><td class=\"infobox-data\">$200 million<sup class=\"reference\" id=\"cite_ref-mojo1_1-1\"><a href=\"#cite_note-mojo1-1\">[1]</a></sup></td></tr>\n",
      "17\n",
      "<tr><th class=\"infobox-label\" scope=\"row\" style=\"white-space:nowrap;padding-right:0.65em;\">Box office</th><td class=\"infobox-data\">$1.067 billion<sup class=\"reference\" id=\"cite_ref-mojo1_1-2\"><a href=\"#cite_note-mojo1-1\">[1]</a></sup></td></tr>\n"
     ]
    }
   ],
   "source": [
    "for index, row in enumerate(info_rows):\n",
    "    print(index)\n",
    "    if index == 0:\n",
    "        movie_info['title'] = row.find(\"th\").get_text(\" \", strip=True)\n",
    "    elif index == 1:\n",
    "        continue\n",
    "    else:\n",
    "        print(row)\n",
    "        content_key = row.find(\"th\").get_text(\" \", strip=True)   \n",
    "        content_value = get_content_value(row.find(\"td\"))\n",
    "        movie_info[content_key] = content_value\n",
    "        \n",
    "    \n"
   ]
  },
  {
   "cell_type": "code",
   "execution_count": 137,
   "id": "described-plain",
   "metadata": {},
   "outputs": [
    {
     "data": {
      "text/plain": [
       "{'title': 'Toy Story 3',\n",
       " 'Directed by': 'Lee Unkrich',\n",
       " 'Produced by': 'Darla K. Anderson',\n",
       " 'Screenplay by': 'Michael Arndt',\n",
       " 'Story by': ['John Lasseter', 'Andrew Stanton', 'Lee Unkrich'],\n",
       " 'Starring': ['Tom Hanks',\n",
       "  'Tim Allen',\n",
       "  'Joan Cusack',\n",
       "  'Don Rickles',\n",
       "  'Wallace Shawn',\n",
       "  'John Ratzenberger',\n",
       "  'Estelle Harris',\n",
       "  'Ned Beatty',\n",
       "  'Michael Keaton',\n",
       "  'Jodi Benson',\n",
       "  'John Morris'],\n",
       " 'Music by': 'Randy Newman',\n",
       " 'Cinematography': ['Jeremy Lasky', 'Kim White'],\n",
       " 'Edited by': 'Ken Schretzmann',\n",
       " 'Production companies': ['Walt Disney Pictures', 'Pixar Animation Studios'],\n",
       " 'Distributed by': 'Walt Disney Studios Motion Pictures',\n",
       " 'Release date': ['June 12, 2010 ( 2010-06-12 ) ( Taormina Film Fest )',\n",
       "  'June 18, 2010 ( 2010-06-18 ) (United States)'],\n",
       " 'Running time': '103 minutes [1]',\n",
       " 'Country': 'United States',\n",
       " 'Language': 'English',\n",
       " 'Budget': '$200 million [1]',\n",
       " 'Box office': '$1.067 billion [1]'}"
      ]
     },
     "execution_count": 137,
     "metadata": {},
     "output_type": "execute_result"
    }
   ],
   "source": [
    "movie_info"
   ]
  },
  {
   "cell_type": "markdown",
   "id": "efficient-praise",
   "metadata": {},
   "source": [
    "# 4 Obtener cuadro de información para todas las películas"
   ]
  },
  {
   "cell_type": "code",
   "execution_count": 2,
   "id": "interstate-blocking",
   "metadata": {},
   "outputs": [],
   "source": [
    "r = requests.get(\"https://en.wikipedia.org/wiki/List_of_Walt_Disney_Pictures_films\")"
   ]
  },
  {
   "cell_type": "code",
   "execution_count": 3,
   "id": "wrapped-aluminum",
   "metadata": {},
   "outputs": [],
   "source": [
    "soup = bs(r.content)"
   ]
  },
  {
   "cell_type": "code",
   "execution_count": 4,
   "id": "partial-status",
   "metadata": {},
   "outputs": [],
   "source": [
    "contents = soup.prettify()\n",
    "#print(contents)"
   ]
  },
  {
   "cell_type": "code",
   "execution_count": 12,
   "id": "organized-graham",
   "metadata": {},
   "outputs": [],
   "source": [
    "movies = soup.select(\".wikitable.sortable i\")"
   ]
  },
  {
   "cell_type": "code",
   "execution_count": 13,
   "id": "occupied-valve",
   "metadata": {},
   "outputs": [
    {
     "data": {
      "text/plain": [
       "[<i><a href=\"/wiki/Academy_Award_Review_of_Walt_Disney_Cartoons\" title=\"Academy Award Review of Walt Disney Cartoons\">Academy Award Review of Walt Disney Cartoons</a></i>,\n",
       " <i><a href=\"/wiki/Snow_White_and_the_Seven_Dwarfs_(1937_film)\" title=\"Snow White and the Seven Dwarfs (1937 film)\">Snow White and the Seven Dwarfs</a></i>,\n",
       " <i><a href=\"/wiki/Pinocchio_(1940_film)\" title=\"Pinocchio (1940 film)\">Pinocchio</a></i>,\n",
       " <i><a href=\"/wiki/Fantasia_(1940_film)\" title=\"Fantasia (1940 film)\">Fantasia</a></i>,\n",
       " <i><a href=\"/wiki/The_Reluctant_Dragon_(1941_film)\" title=\"The Reluctant Dragon (1941 film)\">The Reluctant Dragon</a></i>,\n",
       " <i><a href=\"/wiki/Dumbo\" title=\"Dumbo\">Dumbo</a></i>,\n",
       " <i><a href=\"/wiki/Bambi\" title=\"Bambi\">Bambi</a></i>,\n",
       " <i><a href=\"/wiki/Saludos_Amigos\" title=\"Saludos Amigos\">Saludos Amigos</a></i>,\n",
       " <i><a href=\"/wiki/Victory_Through_Air_Power_(film)\" title=\"Victory Through Air Power (film)\">Victory Through Air Power</a></i>,\n",
       " <i><a href=\"/wiki/The_Three_Caballeros\" title=\"The Three Caballeros\">The Three Caballeros</a></i>]"
      ]
     },
     "execution_count": 13,
     "metadata": {},
     "output_type": "execute_result"
    }
   ],
   "source": [
    "movies[0:10]"
   ]
  },
  {
   "cell_type": "code",
   "execution_count": 14,
   "id": "humanitarian-wisdom",
   "metadata": {},
   "outputs": [
    {
     "data": {
      "text/plain": [
       "<i><a href=\"/wiki/Academy_Award_Review_of_Walt_Disney_Cartoons\" title=\"Academy Award Review of Walt Disney Cartoons\">Academy Award Review of Walt Disney Cartoons</a></i>"
      ]
     },
     "execution_count": 14,
     "metadata": {},
     "output_type": "execute_result"
    }
   ],
   "source": [
    "movies[0]"
   ]
  },
  {
   "cell_type": "code",
   "execution_count": 15,
   "id": "pretty-receipt",
   "metadata": {},
   "outputs": [
    {
     "data": {
      "text/plain": [
       "'/wiki/Academy_Award_Review_of_Walt_Disney_Cartoons'"
      ]
     },
     "execution_count": 15,
     "metadata": {},
     "output_type": "execute_result"
    }
   ],
   "source": [
    "movies[0].a['href']"
   ]
  },
  {
   "cell_type": "code",
   "execution_count": 16,
   "id": "tired-luther",
   "metadata": {},
   "outputs": [
    {
     "data": {
      "text/plain": [
       "'Academy Award Review of Walt Disney Cartoons'"
      ]
     },
     "execution_count": 16,
     "metadata": {},
     "output_type": "execute_result"
    }
   ],
   "source": [
    "movies[0].a['title']"
   ]
  },
  {
   "cell_type": "markdown",
   "id": "experimental-shaft",
   "metadata": {},
   "source": [
    "### Obtener la info "
   ]
  },
  {
   "cell_type": "code",
   "execution_count": 17,
   "id": "liquid-horse",
   "metadata": {},
   "outputs": [],
   "source": [
    "def get_content_value(row_data):\n",
    "    if row_data.find(\"li\"):\n",
    "        return [li.get_text(\" \", strip=True).replace(\"\\xa0\", \" \") for li in row_data.find_all(\"li\")]\n",
    "    else:\n",
    "        return row_data.get_text(\" \", strip=True).replace(\"\\xa0\", \" \")\n",
    "    \n"
   ]
  },
  {
   "cell_type": "code",
   "execution_count": 18,
   "id": "marked-niagara",
   "metadata": {},
   "outputs": [],
   "source": []
  },
  {
   "cell_type": "code",
   "execution_count": 64,
   "id": "historical-memorabilia",
   "metadata": {},
   "outputs": [],
   "source": [
    "def get_info_box(url):\n",
    "    movie_info = {}\n",
    "    r = requests.get(url)\n",
    "    soup = bs(r.content)\n",
    "    info_box = soup.find(class_=\"infobox vevent\")\n",
    "    info_rows = info_box.find_all(\"tr\")\n",
    "    \n",
    "    for index, row in enumerate(info_rows):\n",
    "        if index == 0:\n",
    "            movie_info['title'] = row.find(\"th\").get_text(\" \", strip=True)\n",
    "        else:\n",
    "            header = row.find('th')\n",
    "            if header:\n",
    "                content_key = row.find(\"th\").get_text(\" \", strip=True)\n",
    "                content_value = get_content_value(row.find(\"td\"))\n",
    "                movie_info[content_key] = content_value\n",
    "            \n",
    "    return movie_info"
   ]
  },
  {
   "cell_type": "code",
   "execution_count": 48,
   "id": "unlimited-sentence",
   "metadata": {},
   "outputs": [
    {
     "data": {
      "text/plain": [
       "{'title': 'One Little Indian',\n",
       " 'Directed by': 'Bernard McEveety',\n",
       " 'Produced by': 'Winston Hibler',\n",
       " 'Written by': 'Harry Spalding',\n",
       " 'Starring': ['James Garner',\n",
       "  'Vera Miles',\n",
       "  'Pat Hingle',\n",
       "  'Morgan Woodward',\n",
       "  'Jodie Foster'],\n",
       " 'Music by': 'Jerry Goldsmith',\n",
       " 'Cinematography': 'Charles F. Wheeler',\n",
       " 'Edited by': 'Robert Stafford',\n",
       " 'Production company': 'Walt Disney Productions',\n",
       " 'Distributed by': 'Buena Vista Distribution',\n",
       " 'Release date': ['June 20, 1973'],\n",
       " 'Running time': '90 Minutes',\n",
       " 'Country': 'United States',\n",
       " 'Language': 'English',\n",
       " 'Box office': '$2 million'}"
      ]
     },
     "execution_count": 48,
     "metadata": {},
     "output_type": "execute_result"
    }
   ],
   "source": [
    "get_info_box(\"https://en.wikipedia.org/wiki/One_Little_Indian_(film)\")"
   ]
  },
  {
   "cell_type": "code",
   "execution_count": 79,
   "id": "superb-halloween",
   "metadata": {},
   "outputs": [],
   "source": [
    "r = requests.get(\"https://en.wikipedia.org/wiki/List_of_Walt_Disney_Pictures_films\")\n",
    "soup = bs(r.content)\n",
    "movies = soup.select(\".wikitable.sortable i a\")"
   ]
  },
  {
   "cell_type": "code",
   "execution_count": 66,
   "id": "moderate-australian",
   "metadata": {},
   "outputs": [
    {
     "name": "stdout",
     "output_type": "stream",
     "text": [
      "Zorro the Avenger\n",
      "'NoneType' object has no attribute 'find'\n",
      "The Sign of Zorro\n",
      "'NoneType' object has no attribute 'find'\n",
      "True-Life Adventures\n",
      "'NoneType' object has no attribute 'find_all'\n"
     ]
    }
   ],
   "source": [
    "base_path = \"https://en.wikipedia.org/\"\n",
    "\n",
    "movie_info_list = []\n",
    "for index, movie in enumerate(movies):\n",
    "    #if index == 5:\n",
    "     #   break\n",
    "    try:\n",
    "        relative_path = movie['href']\n",
    "       \n",
    "        full_path = base_path + relative_path\n",
    "        \n",
    "        #title = movie['title']\n",
    "        m = get_info_box(full_path)\n",
    "        \n",
    "        movie_info_list.append(m)\n",
    "        \n",
    "    # por si nos da error alguna película    \n",
    "    except Exception as e:\n",
    "        print(movie.get_text())\n",
    "        print(e)"
   ]
  },
  {
   "cell_type": "markdown",
   "id": "stuck-taiwan",
   "metadata": {},
   "source": [
    "# 5. Guardar o cargar datos"
   ]
  },
  {
   "cell_type": "code",
   "execution_count": 69,
   "id": "collective-suspension",
   "metadata": {},
   "outputs": [],
   "source": [
    "import json\n",
    "def save_data(title,data):\n",
    "    with open(title, 'w', encoding='utf-8') as f:\n",
    "        json.dump(data, f, ensure_ascii=False, indent=2)"
   ]
  },
  {
   "cell_type": "code",
   "execution_count": 70,
   "id": "bibliographic-morgan",
   "metadata": {},
   "outputs": [],
   "source": [
    "def load_data(title):\n",
    "    with open(title, encoding = 'utf-8') as f:\n",
    "        json.load(f)"
   ]
  },
  {
   "cell_type": "code",
   "execution_count": 71,
   "id": "mathematical-profile",
   "metadata": {},
   "outputs": [],
   "source": [
    "save_data(\"./data/disney_data.json\", movie_info_list)"
   ]
  },
  {
   "cell_type": "markdown",
   "id": "south-forge",
   "metadata": {
    "tags": []
   },
   "source": [
    "# 6. Limpiar los datos"
   ]
  },
  {
   "cell_type": "code",
   "execution_count": 74,
   "id": "floating-prize",
   "metadata": {},
   "outputs": [],
   "source": [
    "r = requests.get(\"https://en.wikipedia.org/wiki/List_of_Walt_Disney_Pictures_films\")\n",
    "soup = bs(r.content)\n",
    "movies = soup.select(\".wikitable.sortable i a\")"
   ]
  },
  {
   "cell_type": "markdown",
   "id": "ranking-worry",
   "metadata": {},
   "source": [
    "### Creamos una función que elimine los [1] [2]..., que estan contenidos en las etiquetas `sup` y `span`"
   ]
  },
  {
   "cell_type": "code",
   "execution_count": 81,
   "id": "egyptian-minister",
   "metadata": {},
   "outputs": [],
   "source": [
    "def clean_tags(soup):\n",
    "    for tag in soup.find_all([\"sup\", \"span\"]):\n",
    "        tag.decompose()"
   ]
  },
  {
   "cell_type": "code",
   "execution_count": 82,
   "id": "structured-fitting",
   "metadata": {},
   "outputs": [],
   "source": [
    "def get_info_box(url):\n",
    "    movie_info = {}\n",
    "    r = requests.get(url)\n",
    "    soup = bs(r.content)\n",
    "    info_box = soup.find(class_=\"infobox vevent\")\n",
    "    info_rows = info_box.find_all(\"tr\")\n",
    "    \n",
    "    clean_tags(soup)\n",
    "    \n",
    "    for index, row in enumerate(info_rows):\n",
    "        if index == 0:\n",
    "            movie_info['title'] = row.find(\"th\").get_text(\" \", strip=True)\n",
    "        else:\n",
    "            header = row.find('th')\n",
    "            if header:\n",
    "                content_key = row.find(\"th\").get_text(\" \", strip=True)\n",
    "                content_value = get_content_value(row.find(\"td\"))\n",
    "                movie_info[content_key] = content_value\n",
    "            \n",
    "    return movie_info"
   ]
  },
  {
   "cell_type": "code",
   "execution_count": 83,
   "id": "fewer-sharp",
   "metadata": {},
   "outputs": [
    {
     "name": "stdout",
     "output_type": "stream",
     "text": [
      "Zorro the Avenger\n",
      "'NoneType' object has no attribute 'find'\n",
      "The Sign of Zorro\n",
      "'NoneType' object has no attribute 'find'\n",
      "True-Life Adventures\n",
      "'NoneType' object has no attribute 'find_all'\n"
     ]
    }
   ],
   "source": [
    "base_path = \"https://en.wikipedia.org/\"\n",
    "\n",
    "movie_info_list = []\n",
    "for index, movie in enumerate(movies):\n",
    "    #if index == 5:\n",
    "     #   break\n",
    "    try:\n",
    "        relative_path = movie['href']\n",
    "       \n",
    "        full_path = base_path + relative_path\n",
    "        \n",
    "        #title = movie['title']\n",
    "        m = get_info_box(full_path)\n",
    "        \n",
    "        movie_info_list.append(m)\n",
    "        \n",
    "    # por si nos da error alguna película    \n",
    "    except Exception as e:\n",
    "        print(movie.get_text())\n",
    "        print(e)"
   ]
  },
  {
   "cell_type": "markdown",
   "id": "grave-population",
   "metadata": {},
   "source": [
    "### Separar las cadenas con nombres, no estaban en una `li`"
   ]
  },
  {
   "cell_type": "markdown",
   "id": "executed-discharge",
   "metadata": {},
   "source": [
    "Para esto tenemos que modificar las función `get_content_value`"
   ]
  },
  {
   "cell_type": "code",
   "execution_count": 80,
   "id": "moved-livestock",
   "metadata": {},
   "outputs": [],
   "source": [
    "def get_content_value(row_data):\n",
    "    if row_data.find(\"li\"):\n",
    "        return [li.get_text(\" \", strip=True).replace(\"\\xa0\", \" \") for li in row_data.find_all(\"li\")]\n",
    "    elif row_data.find('br'):\n",
    "        return [text for text in row_data.stripped_strings]\n",
    "    else:\n",
    "        return row_data.get_text(\" \", strip=True).replace(\"\\xa0\", \" \")\n",
    "    "
   ]
  },
  {
   "cell_type": "code",
   "execution_count": 84,
   "id": "collaborative-league",
   "metadata": {},
   "outputs": [],
   "source": [
    "save_data(\"./data/disney_data_cleaned.json\", movie_info_list)"
   ]
  },
  {
   "cell_type": "code",
   "execution_count": null,
   "id": "governing-sapphire",
   "metadata": {},
   "outputs": [],
   "source": []
  }
 ],
 "metadata": {
  "kernelspec": {
   "display_name": "Python 3",
   "language": "python",
   "name": "python3"
  },
  "language_info": {
   "codemirror_mode": {
    "name": "ipython",
    "version": 3
   },
   "file_extension": ".py",
   "mimetype": "text/x-python",
   "name": "python",
   "nbconvert_exporter": "python",
   "pygments_lexer": "ipython3",
   "version": "3.7.0"
  }
 },
 "nbformat": 4,
 "nbformat_minor": 5
}
